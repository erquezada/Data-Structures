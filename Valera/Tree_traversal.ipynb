{
 "cells": [
  {
   "cell_type": "markdown",
   "id": "6f0828c5",
   "metadata": {},
   "source": [
    "# Tree Traversal Techniques\n",
    "Tree traversal is a fundamental operation in computer science used to explore and process the nodes of a tree data structure. There are two primary methods for traversing trees: depth-first traversal and breadth-first traversal.\n",
    "\n",
    "In depth-first traversal, we start at the root node and explore as far down a branch as possible before backtracking. There are three common ways to perform depth-first traversal: pre-order, in-order, and post-order. Pre-order visits the current node before its children, in-order visits the left child before the current node and then the right child, and post-order visits the children before the current node.\n",
    "\n",
    "In contrast, breadth-first traversal explores all the nodes at the current level before moving on to the next level. This method uses a queue data structure to keep track of the nodes to be processed, ensuring that nodes at the same level are visited before moving deeper into the tree.\n",
    "\n",
    "The choice of traversal method depends on the specific problem and the order in which you need to access the nodes. Tree traversal is a crucial concept in various applications, including searching, sorting, and parsing data in hierarchical structures.\n",
    "\n",
    "## Defining a binary tree"
   ]
  },
  {
   "cell_type": "code",
   "execution_count": null,
   "id": "f84c9848",
   "metadata": {},
   "outputs": [],
   "source": [
    "class Node:\n",
    "    def __init__(self, data):\n",
    "        self.left = None\n",
    "        self.right= None\n",
    "        self.data = data"
   ]
  },
  {
   "cell_type": "markdown",
   "id": "3272d8e7",
   "metadata": {},
   "source": [
    "## Filling up the binary tree\n",
    "For now, we'll manually populate the binary tree. Later, we'll develop a method to automate this process. As we progress, we'll also explore how the population strategy varies depending on the chosen tree traversal technique."
   ]
  },
  {
   "cell_type": "code",
   "execution_count": null,
   "id": "127eee4f",
   "metadata": {},
   "outputs": [],
   "source": [
    "#My_Tree = BinaryTree(1)\n",
    "tree = Node(1)  # root\n",
    "tree.left = Node(2)\n",
    "tree.left.left = Node(4)\n",
    "tree.left.left.left = Node(8)\n",
    "tree.left.left.right = Node(9)\n",
    "\n",
    "tree.left.right = Node(5)\n",
    "tree.left.right.left = Node(10)\n",
    "tree.left.right.right = Node(11)\n",
    "\n",
    "tree.right = Node(3)\n",
    "tree.right.left = Node(6)\n",
    "tree.right.left.left = Node(12)\n",
    "tree.right.left.right = Node(13)\n",
    "\n",
    "\n",
    "tree.right.right = Node(7)\n",
    "tree.right.right.left = Node(14)\n",
    "tree.right.right.right = Node(15)"
   ]
  },
  {
   "cell_type": "markdown",
   "id": "fcd941cc",
   "metadata": {},
   "source": [
    "## Depth-First Traversal: Pre-order"
   ]
  },
  {
   "cell_type": "code",
   "execution_count": null,
   "id": "dddfda3f",
   "metadata": {},
   "outputs": [],
   "source": [
    "def PreorderTraversal(root):\n",
    "    if root == None:\n",
    "        return\n",
    "    \n",
    "    print(root.data)\n",
    "    PreorderTraversal(root.left)\n",
    "    PreorderTraversal(root.right)\n",
    "\n",
    "PreorderTraversal(tree)"
   ]
  },
  {
   "cell_type": "markdown",
   "id": "dd231e7a",
   "metadata": {},
   "source": [
    "## Depth-First Traversal: In-order"
   ]
  },
  {
   "cell_type": "code",
   "execution_count": null,
   "id": "03f037b1",
   "metadata": {},
   "outputs": [],
   "source": [
    "def InorderTraversal(root):\n",
    "    if root == None:\n",
    "        return\n",
    "    \n",
    "    InorderTraversal(root.left)\n",
    "    print(root.data)\n",
    "    InorderTraversal(root.right)\n",
    "\n",
    "InorderTraversal(tree)"
   ]
  },
  {
   "cell_type": "markdown",
   "id": "eac54964",
   "metadata": {},
   "source": [
    "## Depth-First Traversal: Post-order"
   ]
  },
  {
   "cell_type": "code",
   "execution_count": null,
   "id": "9544afc9",
   "metadata": {},
   "outputs": [],
   "source": [
    "def PostorderTraversal(root):\n",
    "    if root == None:\n",
    "        return\n",
    "    \n",
    "    PostorderTraversal(root.left)\n",
    "    PostorderTraversal(root.right)\n",
    "    print(root.data)\n",
    "\n",
    "PostorderTraversal(tree)"
   ]
  },
  {
   "cell_type": "markdown",
   "id": "98d1440a",
   "metadata": {},
   "source": [
    "# Breadth-First Traversal"
   ]
  },
  {
   "cell_type": "code",
   "execution_count": null,
   "id": "bea7e1c4",
   "metadata": {},
   "outputs": [],
   "source": [
    "def BreadthFirstTraversal(root, queue=[]):\n",
    "    if root == None:\n",
    "        return\n",
    "    \n",
    "    print(root.data)\n",
    "    if root.left !=None:\n",
    "        queue.append(root.left)\n",
    "    if root.right != None:\n",
    "        queue.append(root.right)\n",
    "    \n",
    "    if len(queue)>0:\n",
    "        next_node = queue.pop(0)\n",
    "        BreadthFirstTraversal(next_node,queue)\n",
    "    else:\n",
    "        return\n",
    "\n",
    "queue = []\n",
    "BreadthFirstTraversal(tree,queue)"
   ]
  },
  {
   "cell_type": "markdown",
   "id": "8b4dae49",
   "metadata": {},
   "source": [
    "# Print Tree Data with Levels"
   ]
  },
  {
   "cell_type": "code",
   "execution_count": null,
   "id": "4f6fd167",
   "metadata": {},
   "outputs": [],
   "source": [
    "def BreadthFirstTraversalLevel(root,level=0,queue=[]):\n",
    "    if root == None:\n",
    "        return\n",
    "    \n",
    "    print(root.data, level)\n",
    "    if root.left != None:\n",
    "        queue.append([root.left,level+1])\n",
    "    \n",
    "    if root.right != None:\n",
    "        queue.append([root.right,level+1])\n",
    "    \n",
    "    if len(queue)>0:\n",
    "        next_node = queue.pop(0)\n",
    "        BreadthFirstTraversalLevel(next_node[0],next_node[1],queue)\n",
    "    else:\n",
    "        return\n",
    "queue = []\n",
    "BreadthFirstTraversalLevel(tree,0,queue)"
   ]
  },
  {
   "cell_type": "markdown",
   "id": "78b472eb",
   "metadata": {},
   "source": [
    "## Inserting a Node in a Binary Tree"
   ]
  },
  {
   "cell_type": "code",
   "execution_count": null,
   "id": "faee747b",
   "metadata": {},
   "outputs": [],
   "source": [
    "def Insert(root,value):\n",
    "    if root == None:\n",
    "        return Node(value)\n",
    "    \n",
    "    if value < root.data:\n",
    "        root.left = Insert(root.left,value) \n",
    "    else:\n",
    "        root.right = Insert(root.right,value)\n",
    "        \n",
    "    return root\n",
    "    "
   ]
  },
  {
   "cell_type": "code",
   "execution_count": null,
   "id": "e6e32692",
   "metadata": {},
   "outputs": [],
   "source": [
    "\n",
    "BreadthFirstTraversal(tree)"
   ]
  },
  {
   "cell_type": "code",
   "execution_count": null,
   "id": "0d21a93b",
   "metadata": {},
   "outputs": [],
   "source": [
    "Insert(tree,6)\n",
    "\n",
    "queue=[]\n",
    "BreadthFirstTraversal(tree)"
   ]
  },
  {
   "cell_type": "markdown",
   "id": "4f1127aa",
   "metadata": {},
   "source": [
    "## Binary Search Tree"
   ]
  },
  {
   "cell_type": "code",
   "execution_count": null,
   "id": "251815e4",
   "metadata": {},
   "outputs": [],
   "source": [
    "def BinarySearchTree(List):\n",
    "    bst = Node(List.pop(0))\n",
    "    \n",
    "    for l in List:\n",
    "        Insert(bst,l)\n",
    "    return bst\n",
    "    "
   ]
  },
  {
   "cell_type": "code",
   "execution_count": null,
   "id": "dd42c910",
   "metadata": {},
   "outputs": [],
   "source": [
    "List = [34, 17, 92, 53, 76, 45, 61, 29, 88, 12, 5, 68, 41, 20, 97]\n",
    "Bst = BinarySearchTree(List)\n",
    "PreorderTraversal(Bst)"
   ]
  },
  {
   "cell_type": "code",
   "execution_count": null,
   "id": "914ce8e4",
   "metadata": {},
   "outputs": [],
   "source": [
    "\n",
    "List = [34, 17, 92, 53, 76, 45, 61, 29, 88, 12, 5, 68, 41, 20, 97]"
   ]
  },
  {
   "cell_type": "markdown",
   "id": "9862d6f3",
   "metadata": {},
   "source": [
    "## Balanced Binary Search Tree"
   ]
  },
  {
   "cell_type": "code",
   "execution_count": null,
   "id": "ecff6508",
   "metadata": {},
   "outputs": [],
   "source": [
    "def BalancedBinarySearchTree(List):\n",
    "    List.sort()\n",
    "    root = Node(0)    \n",
    "    if len(List) == 0:\n",
    "        return None\n",
    "    \n",
    "    if len(List) == 1:\n",
    "        root.data = List[0]\n",
    "        \n",
    "    if len(List) >= 2:\n",
    "        mid = len(List)//2\n",
    "        root.data = List[mid]\n",
    "        root.left = BalancedBinarySearchTree(List[:mid])\n",
    "        root.right = BalancedBinarySearchTree(List[mid+1:]) \n",
    "    return root"
   ]
  },
  {
   "cell_type": "code",
   "execution_count": null,
   "id": "80f600cf",
   "metadata": {},
   "outputs": [],
   "source": [
    "Bbst = BalancedBinarySearchTree(List)"
   ]
  },
  {
   "cell_type": "code",
   "execution_count": null,
   "id": "6f29bcd4",
   "metadata": {},
   "outputs": [],
   "source": [
    "InorderTraversal(Bbst)"
   ]
  },
  {
   "cell_type": "markdown",
   "id": "45d5381e",
   "metadata": {},
   "source": [
    "## Counting the nodes "
   ]
  },
  {
   "cell_type": "code",
   "execution_count": null,
   "id": "c7e291f5",
   "metadata": {},
   "outputs": [],
   "source": [
    "def CountNodes(root, count=0):\n",
    "    \n",
    "    if root == None:\n",
    "        return count\n",
    "    \n",
    "    count = count + 1 # Counting the root \n",
    "    count = CountNodes(root.left,count) #   Adding the nodes in the left subtree\n",
    "    count = CountNodes(root.right,count) #  Adding the nodes of the right subtree \n",
    "    \n",
    "    return count"
   ]
  },
  {
   "cell_type": "markdown",
   "id": "4e07cf14",
   "metadata": {},
   "source": [
    "## Checking if a Binary Seach Tree is Balanced|"
   ]
  },
  {
   "cell_type": "code",
   "execution_count": null,
   "id": "74dafe54",
   "metadata": {},
   "outputs": [],
   "source": [
    "def Is_Balanced(root):\n",
    "    if root == None:\n",
    "        return\n",
    "    \n",
    "    left_nodes = CountNodes(root.left)\n",
    "    right_nodes = CountNodes(root.right)\n",
    "    \n",
    "    if abs(left_nodes-right_nodes)<= 1:\n",
    "        return True\n",
    "    else:\n",
    "        return False\n",
    "    "
   ]
  },
  {
   "cell_type": "code",
   "execution_count": null,
   "id": "037ad995",
   "metadata": {},
   "outputs": [],
   "source": [
    "Is_Balanced(Bst)"
   ]
  },
  {
   "cell_type": "markdown",
   "id": "d0dafa77",
   "metadata": {},
   "source": [
    "## Linear Representation of a Tree"
   ]
  },
  {
   "cell_type": "code",
   "execution_count": null,
   "id": "b2180880",
   "metadata": {},
   "outputs": [],
   "source": [
    "def Linear_Tree(root, linear=[[],[]]):\n",
    "    if root == None:\n",
    "        return linear\n",
    "    if root.left != None:\n",
    "        linear[0].append(1)\n",
    "    else:\n",
    "        linear[0].append(0)\n",
    "        \n",
    "    if root.right != None:\n",
    "        linear[1].append(1)\n",
    "    else:\n",
    "        linear[1].append(0)\n",
    "    \n",
    "    linear = Linear_Tree(root.left, linear)\n",
    "    linear = Linear_Tree(root.right, linear)\n",
    "    return linear\n",
    "       "
   ]
  },
  {
   "cell_type": "code",
   "execution_count": null,
   "id": "c4365a3b",
   "metadata": {},
   "outputs": [],
   "source": [
    "def TreeToList(root,list=[],level=0):\n",
    "    if root == None:\n",
    "        return\n",
    "    if len(list)>level:\n",
    "        list[level].append(root.data)\n",
    "    else:\n",
    "        list.append([])\n",
    "        list[level].append(root.data)\n",
    "    \n",
    "    TreeToList(root.left,list,level+1)\n",
    "    TreeToList(root.right,list,level+1)\n",
    "    \n",
    "    return list\n",
    "    "
   ]
  },
  {
   "cell_type": "code",
   "execution_count": null,
   "id": "bc95493e",
   "metadata": {},
   "outputs": [],
   "source": [
    "def PrintZigZag(root):\n",
    "    if root==None:\n",
    "        return\n",
    "    \n",
    "    Lista = TreeToList(root)\n",
    "    \n",
    "    for i in range(len(Lista)):\n",
    "        if i%2==0:\n",
    "            print(Lista[i])\n",
    "        else:\n",
    "            print(Lista[i][::-1])\n",
    "        "
   ]
  },
  {
   "cell_type": "code",
   "execution_count": null,
   "id": "a08294c6",
   "metadata": {},
   "outputs": [],
   "source": [
    "PrintZigZag(Bbst)"
   ]
  },
  {
   "cell_type": "code",
   "execution_count": null,
   "id": "f22ab5f2",
   "metadata": {},
   "outputs": [],
   "source": []
  }
 ],
 "metadata": {
  "kernelspec": {
   "display_name": "Python 3 (ipykernel)",
   "language": "python",
   "name": "python3"
  },
  "language_info": {
   "codemirror_mode": {
    "name": "ipython",
    "version": 3
   },
   "file_extension": ".py",
   "mimetype": "text/x-python",
   "name": "python",
   "nbconvert_exporter": "python",
   "pygments_lexer": "ipython3",
   "version": "3.11.4"
  }
 },
 "nbformat": 4,
 "nbformat_minor": 5
}
