{
 "cells": [
  {
   "cell_type": "markdown",
   "id": "200554bd",
   "metadata": {},
   "source": [
    "# AVL. Insertion and Deletion Algorithm"
   ]
  },
  {
   "cell_type": "code",
   "execution_count": null,
   "id": "db290a59",
   "metadata": {},
   "outputs": [],
   "source": [
    "class Node:\n",
    "    def __init__(self, data, height):\n",
    "        self.left   = None\n",
    "        self.right  = None\n",
    "        self.data   = data\n",
    "        self.height = height"
   ]
  },
  {
   "cell_type": "code",
   "execution_count": null,
   "id": "fb09752a",
   "metadata": {},
   "outputs": [],
   "source": [
    "def height(root):\n",
    "    if root == None:\n",
    "        return 0\n",
    "    else:\n",
    "        return root.height"
   ]
  },
  {
   "cell_type": "code",
   "execution_count": null,
   "id": "57b30c9d",
   "metadata": {},
   "outputs": [],
   "source": [
    "def newNode(key):\n",
    "    node = Node(key,1)\n",
    "    return node"
   ]
  },
  {
   "cell_type": "code",
   "execution_count": null,
   "id": "997ceda9",
   "metadata": {},
   "outputs": [],
   "source": [
    "def getBalance(root):\n",
    "    if root == None:\n",
    "        return 0\n",
    "    return height(root.left)-height(root.right)"
   ]
  },
  {
   "cell_type": "code",
   "execution_count": null,
   "id": "5de4d8fb",
   "metadata": {},
   "outputs": [],
   "source": [
    "def minValueNode(root):\n",
    "    current = root\n",
    "    while(current.left != None):\n",
    "        current = current.left\n",
    "    return current"
   ]
  },
  {
   "cell_type": "code",
   "execution_count": null,
   "id": "30c665ec",
   "metadata": {},
   "outputs": [],
   "source": [
    "# x is a node\n",
    "def leftRotate(x):\n",
    "    y        = x.right\n",
    "    T2       = y.left\n",
    "    y.left   = x\n",
    "    x.right  = T2\n",
    "    x.height = max(height(x.left),height(x.right))+1\n",
    "    y.height = max(height(y.left),height(y.right))+1\n",
    "    \n",
    "    return y"
   ]
  },
  {
   "cell_type": "code",
   "execution_count": null,
   "id": "b85a58a6",
   "metadata": {},
   "outputs": [],
   "source": [
    "# y is a node\n",
    "def rightRotate(y):\n",
    "    x         = y.left\n",
    "    T2        = x.right\n",
    "    x.right   = y\n",
    "    y.left    = T2\n",
    "    \n",
    "    y.height  = max(height(y.left), height(y.right))+1\n",
    "    x.heigh   = max(height(x.left), height(x.right))+1\n",
    "    \n",
    "    return x"
   ]
  },
  {
   "cell_type": "code",
   "execution_count": null,
   "id": "e9757f76",
   "metadata": {},
   "outputs": [],
   "source": [
    "def insertNode(root, key):\n",
    "    \n",
    "    if root == None:\n",
    "        return newNode(key)\n",
    "    \n",
    "    if key <= root.data:\n",
    "        root.left = insertNode(root.left, key)\n",
    "    #elif key > root.data:\n",
    "    else:\n",
    "        root.right = insertNode(root.right, key)\n",
    "    #else:\n",
    "        #return root\n",
    "    \n",
    "    # Update the balance factor of each node balance tree\n",
    "    \n",
    "    root.height = 1 + max(height(root.left),height(root.right))\n",
    "    balance     = getBalance(root)\n",
    "    \n",
    "    # Rotations\n",
    "    \n",
    "    if balance > 1 and key < root.left.data:\n",
    "        return rightRotate(root) # RR\n",
    "    \n",
    "    if balance < -1 and key > root.right.data:\n",
    "        return leftRotate(root) # LL\n",
    "    \n",
    "    if balance > 1 and key > root.left.data: # LR\n",
    "        root.left = leftRotate(root.left)\n",
    "        return rightRotate(root)\n",
    "    \n",
    "    if balance < -1 and key < root.right.data: # RL\n",
    "        root.right = rightRotate(root.right)\n",
    "        return leftRotate(root)\n",
    "    \n",
    "    return root\n",
    "\n"
   ]
  },
  {
   "cell_type": "code",
   "execution_count": null,
   "id": "67b126b7",
   "metadata": {},
   "outputs": [],
   "source": [
    "def bst_to_latex_pstricks(root):\n",
    "    \n",
    "    latex_code = \"\\\\documentclass{article}\\n\"\n",
    "    latex_code += \"\\\\usepackage{pstricks,pst-tree,pst-node}\\n\"\n",
    "    latex_code += \"\\\\begin{document}\\n\"\n",
    "    latex_code += \"\\\\begin{center}\\n\"\n",
    "    latex_code += f\"\\\\pstree[levelsep=1,nodesep=3pt]{{\\n\" \n",
    "    def traverse(node):\n",
    "        nonlocal latex_code\n",
    "        if node:\n",
    "            latex_code += f\"\\\\Tr[name={node.data}]{{{node.data}}}}}{{\\n\"\n",
    "            \n",
    "            if node.left:\n",
    "                latex_code += f\"\\\\pstree{{ \"\n",
    "                traverse(node.left) \n",
    "                latex_code += f\"}}\"\n",
    "            else:\n",
    "                latex_code += f\"\\\\Tr[name={None}]{{N}}\\n\"\n",
    "            \n",
    "            if node.right:\n",
    "                latex_code += f\"\\\\pstree{{ \"\n",
    "                traverse(node.right) \n",
    "                latex_code += f\"}}\"\n",
    "            else:\n",
    "                latex_code += f\"\\\\Tr[name={None}]{{N}}\\n\"\n",
    "                \n",
    "    traverse(root)\n",
    "    latex_code += f\"}}\\n\"\n",
    "    latex_code += f\"\\\\end{{center}} \\n\"\n",
    "    latex_code += f\"\\\\end{{document}} \\n\"\n",
    "    \n",
    "    return latex_code"
   ]
  },
  {
   "cell_type": "code",
   "execution_count": null,
   "id": "323f63fa",
   "metadata": {},
   "outputs": [],
   "source": [
    "Lista = [9, 27, 5, 14, 38, 12, 3, 19, 42, 8, 31, 16, 7, 22, 36]"
   ]
  },
  {
   "cell_type": "code",
   "execution_count": null,
   "id": "478e084e",
   "metadata": {},
   "outputs": [],
   "source": [
    "Bst = newNode(Lista.pop(0))\n",
    "for l in Lista:\n",
    "\n",
    "    Bst = insertNode(Bst, l)"
   ]
  }
 ],
 "metadata": {
  "kernelspec": {
   "display_name": "Python 3 (ipykernel)",
   "language": "python",
   "name": "python3"
  },
  "language_info": {
   "codemirror_mode": {
    "name": "ipython",
    "version": 3
   },
   "file_extension": ".py",
   "mimetype": "text/x-python",
   "name": "python",
   "nbconvert_exporter": "python",
   "pygments_lexer": "ipython3",
   "version": "3.11.4"
  }
 },
 "nbformat": 4,
 "nbformat_minor": 5
}
