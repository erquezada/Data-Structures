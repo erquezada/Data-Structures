{
 "cells": [
  {
   "cell_type": "markdown",
   "id": "2f4ab80b",
   "metadata": {},
   "source": [
    "---\n",
    "author:\n",
    "- Dr. Valera\n",
    "date: 2023-09-08\n",
    "title: Data Structure - Fall 2023\n",
    "---\n",
    "\n",
    "# Time Complexity\n",
    "\n",
    "In computer science and programming, analyzing the time complexity of\n",
    "algorithms is crucial. It helps us understand how the algorithm's\n",
    "performance scales with different input sizes. Time complexity is\n",
    "typically expressed using Big O notation, which describes the upper\n",
    "bound of an algorithm's running time in relation to its input size.\n",
    "\n",
    "1.  **Upper Bound**: Big O notation describes the upper bound or\n",
    "    worst-case scenario for the time complexity of an algorithm. It\n",
    "    indicates the maximum amount of time an algorithm will take as a\n",
    "    function of the input size.\n",
    "\n",
    "2.  **Simplified Representation**: Big O notation simplifies the\n",
    "    analysis of an algorithm's performance by focusing on the dominant\n",
    "    factor that contributes most significantly to the running time as\n",
    "    the input size grows. It ignores constant factors and lower-order\n",
    "    terms.\n",
    "\n",
    "3.  **Function of $n$**: The \"f(n)\" part in O(f(n)) represents a\n",
    "    mathematical function that describes the upper bound of the\n",
    "    algorithm's time complexity. This function is typically chosen to be\n",
    "    the most significant term that affects the running time.\n",
    "\n",
    "4.  **O(1)**: If an algorithm has constant time complexity, it is\n",
    "    denoted as O(1). This means that the running time remains constant,\n",
    "    regardless of the input size. It's the most efficient time\n",
    "    complexity.\n",
    "\n",
    "5.  **O($\\log n$)**: Logarithmic time complexity, denoted as\n",
    "    O($\\log n$), indicates that the running time grows logarithmically\n",
    "    with the input size. Algorithms with this complexity are very\n",
    "    efficient and scale well.\n",
    "    "
   ]
  },
  {
   "cell_type": "code",
   "execution_count": 1,
   "id": "d9752807",
   "metadata": {},
   "outputs": [],
   "source": [
    "    def binary_search(arr, target):\n",
    "        left = 0\n",
    "        right = len(arr) - 1\n",
    "\n",
    "        while left <= right:\n",
    "            mid = (left + right) // 2  # Calculate the middle index\n",
    "\n",
    "            if arr[mid] == target:\n",
    "                return mid  # Target found, return the index\n",
    "            elif arr[mid] < target:\n",
    "                left = mid + 1  # Search the right half\n",
    "            else:\n",
    "                right = mid - 1  # Search the left half\n",
    "\n",
    "        return -1  # Target not found in the array"
   ]
  },
  {
   "cell_type": "markdown",
   "id": "d1d9b715",
   "metadata": {},
   "source": [
    "### Performing runtime tests on 26 arrays."
   ]
  },
  {
   "cell_type": "code",
   "execution_count": 2,
   "id": "3333f053",
   "metadata": {},
   "outputs": [],
   "source": [
    "import time\n",
    "N    = []\n",
    "Time = []\n",
    "for n in range(1,26):\n",
    "    sorted_list = []\n",
    "    # Creating the list of length n. The target is n+1\n",
    "    for j in range(1,2**n+1):\n",
    "        sorted_list.append(j)\n",
    "    \n",
    "    # Calculating the runtime\n",
    "    start_time = time.time()  \n",
    "    binary_search(sorted_list,2**n)\n",
    "    end_time = time.time()\n",
    "    elapsed_time = end_time - start_time\n",
    "    \n",
    "    # Updating the variable\n",
    "    N.append(2**n)\n",
    "    Time.append(elapsed_time)"
   ]
  },
  {
   "cell_type": "code",
   "execution_count": 2,
   "id": "8a9985d6",
   "metadata": {},
   "outputs": [
    {
     "ename": "ModuleNotFoundError",
     "evalue": "No module named 'matplotlib'",
     "output_type": "error",
     "traceback": [
      "\u001b[0;31m---------------------------------------------------------------------------\u001b[0m",
      "\u001b[0;31mModuleNotFoundError\u001b[0m                       Traceback (most recent call last)",
      "\u001b[1;32m/Users/ericquezada/Data-Structures/Valera/Time_Complexity.ipynb Cell 5\u001b[0m line \u001b[0;36m1\n\u001b[0;32m----> <a href='vscode-notebook-cell:/Users/ericquezada/Data-Structures/Valera/Time_Complexity.ipynb#W4sZmlsZQ%3D%3D?line=0'>1</a>\u001b[0m \u001b[39mimport\u001b[39;00m \u001b[39mmatplotlib\u001b[39;00m\u001b[39m.\u001b[39;00m\u001b[39mpyplot\u001b[39;00m \u001b[39mas\u001b[39;00m \u001b[39mplt\u001b[39;00m\n\u001b[1;32m      <a href='vscode-notebook-cell:/Users/ericquezada/Data-Structures/Valera/Time_Complexity.ipynb#W4sZmlsZQ%3D%3D?line=1'>2</a>\u001b[0m plt\u001b[39m.\u001b[39mplot(N,Time,\u001b[39m'\u001b[39m\u001b[39m.\u001b[39m\u001b[39m'\u001b[39m)\n",
      "\u001b[0;31mModuleNotFoundError\u001b[0m: No module named 'matplotlib'"
     ]
    }
   ],
   "source": [
    "import matplotlib.pyplot as plt\n",
    "plt.plot(N,Time,'.')"
   ]
  },
  {
   "cell_type": "code",
   "execution_count": 4,
   "id": "445510c4",
   "metadata": {},
   "outputs": [
    {
     "name": "stdout",
     "output_type": "stream",
     "text": [
      "intercept: -3.392696380615237e-06\n",
      "slope: [7.39280994e-07]\n"
     ]
    }
   ],
   "source": [
    "# Logarithm regression\n",
    "\n",
    "import numpy as np\n",
    "from sklearn.linear_model import LinearRegression\n",
    "import math\n",
    "\n",
    "logN = [math.log2(n) for n in N]\n",
    "x    = np.array(logN).reshape((-1,1)) \n",
    "T    = np.array(Time)\n",
    "\n",
    "model = LinearRegression().fit(x, T)\n",
    "\n",
    "print(f\"intercept: {model.intercept_}\")\n",
    "print(f\"slope: {model.coef_}\")\n",
    "\n"
   ]
  },
  {
   "cell_type": "code",
   "execution_count": 3,
   "id": "4f1b1fdb",
   "metadata": {},
   "outputs": [
    {
     "ename": "NameError",
     "evalue": "name 'N' is not defined",
     "output_type": "error",
     "traceback": [
      "\u001b[0;31m---------------------------------------------------------------------------\u001b[0m",
      "\u001b[0;31mNameError\u001b[0m                                 Traceback (most recent call last)",
      "\u001b[1;32m/Users/ericquezada/Data-Structures/Valera/Time_Complexity.ipynb Cell 7\u001b[0m line \u001b[0;36m2\n\u001b[1;32m      <a href='vscode-notebook-cell:/Users/ericquezada/Data-Structures/Valera/Time_Complexity.ipynb#W6sZmlsZQ%3D%3D?line=0'>1</a>\u001b[0m \u001b[39m# Adjusting the Data a the logarithm regression\u001b[39;00m\n\u001b[0;32m----> <a href='vscode-notebook-cell:/Users/ericquezada/Data-Structures/Valera/Time_Complexity.ipynb#W6sZmlsZQ%3D%3D?line=1'>2</a>\u001b[0m Rlog \u001b[39m=\u001b[39m [model\u001b[39m.\u001b[39mintercept_ \u001b[39m+\u001b[39m model\u001b[39m.\u001b[39mcoef_\u001b[39m*\u001b[39mmath\u001b[39m.\u001b[39mlog2(n) \u001b[39mfor\u001b[39;00m n \u001b[39min\u001b[39;00m N]\n\u001b[1;32m      <a href='vscode-notebook-cell:/Users/ericquezada/Data-Structures/Valera/Time_Complexity.ipynb#W6sZmlsZQ%3D%3D?line=2'>3</a>\u001b[0m plt\u001b[39m.\u001b[39mplot(N[:\u001b[39m-\u001b[39m\u001b[39m1\u001b[39m],Time[:\u001b[39m-\u001b[39m\u001b[39m1\u001b[39m],\u001b[39m'\u001b[39m\u001b[39m.\u001b[39m\u001b[39m'\u001b[39m)\n\u001b[1;32m      <a href='vscode-notebook-cell:/Users/ericquezada/Data-Structures/Valera/Time_Complexity.ipynb#W6sZmlsZQ%3D%3D?line=3'>4</a>\u001b[0m plt\u001b[39m.\u001b[39mplot(N[:\u001b[39m-\u001b[39m\u001b[39m1\u001b[39m],Rlog[:\u001b[39m-\u001b[39m\u001b[39m1\u001b[39m])\n",
      "\u001b[0;31mNameError\u001b[0m: name 'N' is not defined"
     ]
    }
   ],
   "source": [
    "# Adjusting the Data a the logarithm regression\n",
    "Rlog = [model.intercept_ + model.coef_*math.log2(n) for n in N]\n",
    "plt.plot(N[:-1],Time[:-1],'.')\n",
    "plt.plot(N[:-1],Rlog[:-1])"
   ]
  },
  {
   "cell_type": "markdown",
   "id": "2686cf60",
   "metadata": {},
   "source": [
    "6.  **O($n$)**: Linear time complexity, denoted as O($n$), means that\n",
    "    the running time grows linearly with the input size. As the input\n",
    "    size doubles, the running time roughly doubles as well.\n",
    "     "
   ]
  },
  {
   "cell_type": "code",
   "execution_count": 4,
   "id": "a1dd077f",
   "metadata": {},
   "outputs": [],
   "source": [
    "def linear_search(arr, target):\n",
    "    \n",
    "   for element in arr:\n",
    "       if element == target:\n",
    "           return element"
   ]
  },
  {
   "cell_type": "markdown",
   "id": "203ad63c",
   "metadata": {},
   "source": [
    "### Performing runtime tests on 1000 arrays."
   ]
  },
  {
   "cell_type": "code",
   "execution_count": 5,
   "id": "e709b2f9",
   "metadata": {},
   "outputs": [
    {
     "ename": "NameError",
     "evalue": "name 'time' is not defined",
     "output_type": "error",
     "traceback": [
      "\u001b[0;31m---------------------------------------------------------------------------\u001b[0m",
      "\u001b[0;31mNameError\u001b[0m                                 Traceback (most recent call last)",
      "\u001b[1;32m/Users/ericquezada/Data-Structures/Valera/Time_Complexity.ipynb Cell 11\u001b[0m line \u001b[0;36m1\n\u001b[1;32m      <a href='vscode-notebook-cell:/Users/ericquezada/Data-Structures/Valera/Time_Complexity.ipynb#X13sZmlsZQ%3D%3D?line=6'>7</a>\u001b[0m     \u001b[39mlist\u001b[39m\u001b[39m.\u001b[39mappend(j)\n\u001b[1;32m      <a href='vscode-notebook-cell:/Users/ericquezada/Data-Structures/Valera/Time_Complexity.ipynb#X13sZmlsZQ%3D%3D?line=8'>9</a>\u001b[0m \u001b[39m# Calculating the runtime\u001b[39;00m\n\u001b[0;32m---> <a href='vscode-notebook-cell:/Users/ericquezada/Data-Structures/Valera/Time_Complexity.ipynb#X13sZmlsZQ%3D%3D?line=9'>10</a>\u001b[0m start_time \u001b[39m=\u001b[39m time\u001b[39m.\u001b[39mtime()  \n\u001b[1;32m     <a href='vscode-notebook-cell:/Users/ericquezada/Data-Structures/Valera/Time_Complexity.ipynb#X13sZmlsZQ%3D%3D?line=10'>11</a>\u001b[0m linear_search(\u001b[39mlist\u001b[39m,n)\n\u001b[1;32m     <a href='vscode-notebook-cell:/Users/ericquezada/Data-Structures/Valera/Time_Complexity.ipynb#X13sZmlsZQ%3D%3D?line=11'>12</a>\u001b[0m end_time \u001b[39m=\u001b[39m time\u001b[39m.\u001b[39mtime()\n",
      "\u001b[0;31mNameError\u001b[0m: name 'time' is not defined"
     ]
    }
   ],
   "source": [
    "N    = []\n",
    "Time = []\n",
    "for n in range(1,1000):\n",
    "    list = []\n",
    "    # Creating the list of length n. The target is n+1\n",
    "    for j in range(1,n+1):\n",
    "        list.append(j)\n",
    "    \n",
    "    # Calculating the runtime\n",
    "    start_time = time.time()  \n",
    "    linear_search(list,n)\n",
    "    end_time = time.time()\n",
    "    elapsed_time = end_time - start_time\n",
    "    \n",
    "    # Updating the variable\n",
    "    N.append(n)\n",
    "    Time.append(elapsed_time)"
   ]
  },
  {
   "cell_type": "code",
   "execution_count": 6,
   "id": "fd032b43",
   "metadata": {},
   "outputs": [
    {
     "ename": "NameError",
     "evalue": "name 'np' is not defined",
     "output_type": "error",
     "traceback": [
      "\u001b[0;31m---------------------------------------------------------------------------\u001b[0m",
      "\u001b[0;31mNameError\u001b[0m                                 Traceback (most recent call last)",
      "\u001b[1;32m/Users/ericquezada/Data-Structures/Valera/Time_Complexity.ipynb Cell 12\u001b[0m line \u001b[0;36m1\n\u001b[0;32m----> <a href='vscode-notebook-cell:/Users/ericquezada/Data-Structures/Valera/Time_Complexity.ipynb#X14sZmlsZQ%3D%3D?line=0'>1</a>\u001b[0m x    \u001b[39m=\u001b[39m np\u001b[39m.\u001b[39marray(N)\u001b[39m.\u001b[39mreshape((\u001b[39m-\u001b[39m\u001b[39m1\u001b[39m,\u001b[39m1\u001b[39m)) \n\u001b[1;32m      <a href='vscode-notebook-cell:/Users/ericquezada/Data-Structures/Valera/Time_Complexity.ipynb#X14sZmlsZQ%3D%3D?line=1'>2</a>\u001b[0m T    \u001b[39m=\u001b[39m np\u001b[39m.\u001b[39marray(Time)\n\u001b[1;32m      <a href='vscode-notebook-cell:/Users/ericquezada/Data-Structures/Valera/Time_Complexity.ipynb#X14sZmlsZQ%3D%3D?line=3'>4</a>\u001b[0m model \u001b[39m=\u001b[39m LinearRegression()\u001b[39m.\u001b[39mfit(x, T)\n",
      "\u001b[0;31mNameError\u001b[0m: name 'np' is not defined"
     ]
    }
   ],
   "source": [
    "x    = np.array(N).reshape((-1,1)) \n",
    "T    = np.array(Time)\n",
    "\n",
    "model = LinearRegression().fit(x, T)\n",
    "\n",
    "print(f\"intercept: {model.intercept_}\")\n",
    "print(f\"slope: {model.coef_}\")"
   ]
  },
  {
   "cell_type": "code",
   "execution_count": 7,
   "id": "cb752980",
   "metadata": {},
   "outputs": [
    {
     "ename": "NameError",
     "evalue": "name 'plt' is not defined",
     "output_type": "error",
     "traceback": [
      "\u001b[0;31m---------------------------------------------------------------------------\u001b[0m",
      "\u001b[0;31mNameError\u001b[0m                                 Traceback (most recent call last)",
      "\u001b[1;32m/Users/ericquezada/Data-Structures/Valera/Time_Complexity.ipynb Cell 13\u001b[0m line \u001b[0;36m3\n\u001b[1;32m      <a href='vscode-notebook-cell:/Users/ericquezada/Data-Structures/Valera/Time_Complexity.ipynb#X15sZmlsZQ%3D%3D?line=0'>1</a>\u001b[0m \u001b[39m# Adjusting the Data a the logarithm regression\u001b[39;00m\n\u001b[1;32m      <a href='vscode-notebook-cell:/Users/ericquezada/Data-Structures/Valera/Time_Complexity.ipynb#X15sZmlsZQ%3D%3D?line=1'>2</a>\u001b[0m Rlin \u001b[39m=\u001b[39m [model\u001b[39m.\u001b[39mintercept_ \u001b[39m+\u001b[39m model\u001b[39m.\u001b[39mcoef_\u001b[39m*\u001b[39mn \u001b[39mfor\u001b[39;00m n \u001b[39min\u001b[39;00m N]\n\u001b[0;32m----> <a href='vscode-notebook-cell:/Users/ericquezada/Data-Structures/Valera/Time_Complexity.ipynb#X15sZmlsZQ%3D%3D?line=2'>3</a>\u001b[0m plt\u001b[39m.\u001b[39mplot(N[:\u001b[39m-\u001b[39m\u001b[39m1\u001b[39m],Time[:\u001b[39m-\u001b[39m\u001b[39m1\u001b[39m],\u001b[39m'\u001b[39m\u001b[39m.\u001b[39m\u001b[39m'\u001b[39m)\n\u001b[1;32m      <a href='vscode-notebook-cell:/Users/ericquezada/Data-Structures/Valera/Time_Complexity.ipynb#X15sZmlsZQ%3D%3D?line=3'>4</a>\u001b[0m plt\u001b[39m.\u001b[39mplot(N[:\u001b[39m-\u001b[39m\u001b[39m1\u001b[39m],Rlin[:\u001b[39m-\u001b[39m\u001b[39m1\u001b[39m])\n",
      "\u001b[0;31mNameError\u001b[0m: name 'plt' is not defined"
     ]
    }
   ],
   "source": [
    "# Adjusting the Data a the logarithm regression\n",
    "Rlin = [model.intercept_ + model.coef_*n for n in N]\n",
    "plt.plot(N[:-1],Time[:-1],'.')\n",
    "plt.plot(N[:-1],Rlin[:-1])"
   ]
  },
  {
   "cell_type": "markdown",
   "id": "611f167d",
   "metadata": {},
   "source": [
    "7.  **O($n^2$)**, **O($n^3$)**, etc.: Polynomial time complexities, such\n",
    "    as O($n^2$) or O($n^3$), indicate that the running time grows with a\n",
    "    polynomial function of the input size. These are less efficient than\n",
    "    linear or logarithmic complexities.\n",
    "\n",
    "8.  **O($2^n$)**: Exponential time complexity, denoted as O($2^n$),\n",
    "    implies that the running time doubles with each increase in the\n",
    "    input size. Algorithms with exponential complexity are usually very\n",
    "    inefficient for large inputs.\n",
    "\n",
    "9.  **Comparative Analysis**: Big O notation allows for the comparison\n",
    "    of different algorithms and helps in selecting the most efficient\n",
    "    algorithm for a specific problem.\n",
    "\n",
    "10. **Use Cases**: It is primarily used for analyzing time complexity,\n",
    "    but it can also be applied to space complexity, memory usage, and\n",
    "    other resource-related aspects of algorithms.\n",
    "\n",
    "To gain a better understanding of time complexity, let's explore some\n",
    "examples:\n",
    "\n",
    "## Recursion and Time Complexity\n",
    "\n",
    "Consider the classic example of calculating the Fibonacci sequence using\n",
    "a straightforward recursive approach:"
   ]
  },
  {
   "cell_type": "code",
   "execution_count": 8,
   "id": "cede1cb1",
   "metadata": {},
   "outputs": [],
   "source": [
    "def fibonacci(n):\n",
    "    if n <= 1:\n",
    "        return 1\n",
    "    else:\n",
    "        return fibonacci(n-1) + fibonacci(n-2)"
   ]
  },
  {
   "cell_type": "markdown",
   "id": "740522fd",
   "metadata": {},
   "source": [
    "This recursive algorithm computes Fibonacci numbers by recursively\n",
    "calling itself for smaller values of $n$. However, the time complexity\n",
    "of this naive approach is approximately $O(2^n)$, making it impractical\n",
    "for large values of $n$. The reason is that the algorithm recalculates\n",
    "the Fibonacci numbers for the same values multiple times, resulting in\n",
    "exponential growth in computation."
   ]
  },
  {
   "cell_type": "markdown",
   "id": "ed7a20ff",
   "metadata": {},
   "source": [
    "### Performing runtime tests for the first 30 natural numbers"
   ]
  },
  {
   "cell_type": "code",
   "execution_count": 9,
   "id": "593023e1",
   "metadata": {},
   "outputs": [
    {
     "ename": "NameError",
     "evalue": "name 'time' is not defined",
     "output_type": "error",
     "traceback": [
      "\u001b[0;31m---------------------------------------------------------------------------\u001b[0m",
      "\u001b[0;31mNameError\u001b[0m                                 Traceback (most recent call last)",
      "\u001b[1;32m/Users/ericquezada/Data-Structures/Valera/Time_Complexity.ipynb Cell 18\u001b[0m line \u001b[0;36m5\n\u001b[1;32m      <a href='vscode-notebook-cell:/Users/ericquezada/Data-Structures/Valera/Time_Complexity.ipynb#X23sZmlsZQ%3D%3D?line=2'>3</a>\u001b[0m Time \u001b[39m=\u001b[39m []\n\u001b[1;32m      <a href='vscode-notebook-cell:/Users/ericquezada/Data-Structures/Valera/Time_Complexity.ipynb#X23sZmlsZQ%3D%3D?line=3'>4</a>\u001b[0m \u001b[39mfor\u001b[39;00m i \u001b[39min\u001b[39;00m \u001b[39mrange\u001b[39m(n\u001b[39m+\u001b[39m\u001b[39m1\u001b[39m):\n\u001b[0;32m----> <a href='vscode-notebook-cell:/Users/ericquezada/Data-Structures/Valera/Time_Complexity.ipynb#X23sZmlsZQ%3D%3D?line=4'>5</a>\u001b[0m     time_start \u001b[39m=\u001b[39m time\u001b[39m.\u001b[39mtime()\n\u001b[1;32m      <a href='vscode-notebook-cell:/Users/ericquezada/Data-Structures/Valera/Time_Complexity.ipynb#X23sZmlsZQ%3D%3D?line=5'>6</a>\u001b[0m     fibonacci(i)\n\u001b[1;32m      <a href='vscode-notebook-cell:/Users/ericquezada/Data-Structures/Valera/Time_Complexity.ipynb#X23sZmlsZQ%3D%3D?line=6'>7</a>\u001b[0m     end_time \u001b[39m=\u001b[39m time\u001b[39m.\u001b[39mtime()\n",
      "\u001b[0;31mNameError\u001b[0m: name 'time' is not defined"
     ]
    }
   ],
   "source": [
    "n = 30\n",
    "N = []\n",
    "Time = []\n",
    "for i in range(n+1):\n",
    "    time_start = time.time()\n",
    "    fibonacci(i)\n",
    "    end_time = time.time()\n",
    "    elapsed_time = end_time - time_start\n",
    "    N.append(i)\n",
    "    Time.append(elapsed_time)"
   ]
  },
  {
   "cell_type": "code",
   "execution_count": 10,
   "id": "f267135b",
   "metadata": {},
   "outputs": [
    {
     "ename": "NameError",
     "evalue": "name 'np' is not defined",
     "output_type": "error",
     "traceback": [
      "\u001b[0;31m---------------------------------------------------------------------------\u001b[0m",
      "\u001b[0;31mNameError\u001b[0m                                 Traceback (most recent call last)",
      "\u001b[1;32m/Users/ericquezada/Data-Structures/Valera/Time_Complexity.ipynb Cell 19\u001b[0m line \u001b[0;36m2\n\u001b[1;32m      <a href='vscode-notebook-cell:/Users/ericquezada/Data-Structures/Valera/Time_Complexity.ipynb#X24sZmlsZQ%3D%3D?line=0'>1</a>\u001b[0m p2N   \u001b[39m=\u001b[39m [\u001b[39m2\u001b[39m\u001b[39m*\u001b[39m\u001b[39m*\u001b[39mn \u001b[39mfor\u001b[39;00m n \u001b[39min\u001b[39;00m N]\n\u001b[0;32m----> <a href='vscode-notebook-cell:/Users/ericquezada/Data-Structures/Valera/Time_Complexity.ipynb#X24sZmlsZQ%3D%3D?line=1'>2</a>\u001b[0m x    \u001b[39m=\u001b[39m np\u001b[39m.\u001b[39marray(p2N)\u001b[39m.\u001b[39mreshape((\u001b[39m-\u001b[39m\u001b[39m1\u001b[39m,\u001b[39m1\u001b[39m)) \n\u001b[1;32m      <a href='vscode-notebook-cell:/Users/ericquezada/Data-Structures/Valera/Time_Complexity.ipynb#X24sZmlsZQ%3D%3D?line=2'>3</a>\u001b[0m T    \u001b[39m=\u001b[39m np\u001b[39m.\u001b[39marray(Time)\n\u001b[1;32m      <a href='vscode-notebook-cell:/Users/ericquezada/Data-Structures/Valera/Time_Complexity.ipynb#X24sZmlsZQ%3D%3D?line=6'>7</a>\u001b[0m model \u001b[39m=\u001b[39m LinearRegression()\u001b[39m.\u001b[39mfit(x, T)\n",
      "\u001b[0;31mNameError\u001b[0m: name 'np' is not defined"
     ]
    }
   ],
   "source": [
    "p2N   = [2**n for n in N]\n",
    "x    = np.array(p2N).reshape((-1,1)) \n",
    "T    = np.array(Time)\n",
    "\n",
    "\n",
    "\n",
    "model = LinearRegression().fit(x, T)\n",
    "\n",
    "print(f\"intercept: {model.intercept_}\")\n",
    "print(f\"slope: {model.coef_}\")"
   ]
  },
  {
   "cell_type": "code",
   "execution_count": 11,
   "id": "18151979",
   "metadata": {},
   "outputs": [
    {
     "ename": "NameError",
     "evalue": "name 'plt' is not defined",
     "output_type": "error",
     "traceback": [
      "\u001b[0;31m---------------------------------------------------------------------------\u001b[0m",
      "\u001b[0;31mNameError\u001b[0m                                 Traceback (most recent call last)",
      "\u001b[1;32m/Users/ericquezada/Data-Structures/Valera/Time_Complexity.ipynb Cell 20\u001b[0m line \u001b[0;36m3\n\u001b[1;32m      <a href='vscode-notebook-cell:/Users/ericquezada/Data-Structures/Valera/Time_Complexity.ipynb#X25sZmlsZQ%3D%3D?line=0'>1</a>\u001b[0m \u001b[39m# Adjusting the Data a the logarithm regression\u001b[39;00m\n\u001b[1;32m      <a href='vscode-notebook-cell:/Users/ericquezada/Data-Structures/Valera/Time_Complexity.ipynb#X25sZmlsZQ%3D%3D?line=1'>2</a>\u001b[0m Rexp \u001b[39m=\u001b[39m [model\u001b[39m.\u001b[39mintercept_ \u001b[39m+\u001b[39m model\u001b[39m.\u001b[39mcoef_\u001b[39m*\u001b[39m(\u001b[39m2\u001b[39m\u001b[39m*\u001b[39m\u001b[39m*\u001b[39mn) \u001b[39mfor\u001b[39;00m n \u001b[39min\u001b[39;00m N]\n\u001b[0;32m----> <a href='vscode-notebook-cell:/Users/ericquezada/Data-Structures/Valera/Time_Complexity.ipynb#X25sZmlsZQ%3D%3D?line=2'>3</a>\u001b[0m plt\u001b[39m.\u001b[39mplot(N,Time,\u001b[39m'\u001b[39m\u001b[39m.\u001b[39m\u001b[39m'\u001b[39m)\n\u001b[1;32m      <a href='vscode-notebook-cell:/Users/ericquezada/Data-Structures/Valera/Time_Complexity.ipynb#X25sZmlsZQ%3D%3D?line=3'>4</a>\u001b[0m plt\u001b[39m.\u001b[39mplot(N,Rexp)\n",
      "\u001b[0;31mNameError\u001b[0m: name 'plt' is not defined"
     ]
    }
   ],
   "source": [
    "# Adjusting the Data a the logarithm regression\n",
    "Rexp = [model.intercept_ + model.coef_*(2**n) for n in N]\n",
    "plt.plot(N,Time,'.')\n",
    "plt.plot(N,Rexp)"
   ]
  },
  {
   "cell_type": "markdown",
   "id": "68f3f5f7",
   "metadata": {},
   "source": [
    "## Recursion in Nested Loops\n",
    "\n",
    "In some algorithms, recursion may be used within a nested loop\n",
    "structure, leading to a more complex time complexity analysis. When\n",
    "recursion and loops combine, it's essential to understand how they\n",
    "interact to determine the overall time complexity.\n",
    "\n",
    "Consider the following pseudo-code for an algorithm that involves\n",
    "recursion within a nested loop:\n",
    "\n",
    "    function recursiveNestedLoop(n):\n",
    "        if n <= 0:\n",
    "            return\n",
    "        for i in range(n):\n",
    "            // Some constant-time operations here\n",
    "        recursiveNestedLoop(n-1)\n",
    "\n",
    "In this example, the recursive function 'recursiveNestedLoop' is called\n",
    "with a decreasing value of 'n' inside a loop that iterates from '0' to\n",
    "'n-1'. The loop performs constant-time operations.\n",
    "\n",
    "Analyzing the time complexity of such an algorithm can be more\n",
    "challenging. In this case, the time complexity depends on both the\n",
    "number of recursive calls and the number of iterations in the loop. If\n",
    "the loop iterates $n$ times, and the recursion depth is also $n$, the\n",
    "overall time complexity could be $O(n^2)$.\n",
    "\n",
    "    Initialize the Sudoku grid\n",
    "    Initialize a backtracking counter\n",
    "\n",
    "    Procedure is_valid(x, y, n):\n",
    "        For j in range(9):\n",
    "            If grid[x][j] = n:\n",
    "                Return False\n",
    "\n",
    "        For i in range(9):\n",
    "            If grid[i][y] = n:\n",
    "                Return False\n",
    "\n",
    "        x0 = 3 * (x // 3)\n",
    "        y0 = 3 * (y // 3)\n",
    "\n",
    "        For i in range(3):\n",
    "            For j in range(3):\n",
    "                If grid[x0 + i][y0 + j] = n:\n",
    "                    Return False\n",
    "\n",
    "        Return True\n",
    "\n",
    "    Procedure sudoku():\n",
    "        Global backtracking\n",
    "        For x in range(9):\n",
    "            For y in range(9):\n",
    "                If grid[x][y] = 0:\n",
    "                    For n in range(1, 10):\n",
    "                        If is_valid(x, y, n):\n",
    "                            grid[x][y] = n\n",
    "                            sudoku()\n",
    "                            grid[x][y] = 0  # Backtrack\n",
    "                            backtracking = backtracking + 1\n",
    "\n",
    "    Call sudoku()\n",
    "    Print the solved Sudoku grid\n",
    "    Print the backtracking counter\n",
    "\n",
    "While the Sudoku puzzle-solving algorithm may encounter a different\n",
    "number of possibilities for different puzzles, it doesn't depend on the\n",
    "puzzle's size. This is why its time complexity is often approximated as\n",
    "O(1) or constant. The efficiency of the algorithm is primarily due to\n",
    "constraint propagation and the backtracking approach, which help it\n",
    "solve Sudoku puzzles efficiently.\n",
    "\n",
    "# Time Complexities in Data Structures\n",
    "\n",
    "In computer science, understanding the time complexities of data\n",
    "structure operations is crucial for optimizing algorithms and\n",
    "applications. Here's an overview of common data structures and their\n",
    "associated time complexities for fundamental operations.\n",
    "\n",
    "## Arrays\n",
    "\n",
    "-   **Access (Get/Set):** $O(1)$ - Constant-time access based on index.\n",
    "\n",
    "-   **Insertion (at the end):** $O(1)$ on average. However, resizing may\n",
    "    make it $O(n)$ in the worst case.\n",
    "\n",
    "-   **Insertion (at the beginning or middle):** $O(n)$ - Shifting\n",
    "    elements to make room.\n",
    "\n",
    "-   **Deletion (at the end):** $O(1)$ - Removing the last element.\n",
    "\n",
    "-   **Deletion (in the middle or beginning):** $O(n)$ - Shifting\n",
    "    elements to close the gap.\n",
    "\n",
    "## Linked Lists\n",
    "\n",
    "-   **Access (Get/Set):** $O(n)$ - Traversing from the head.\n",
    "\n",
    "-   **Insertion (at the beginning):** $O(1)$ - Adding to the front.\n",
    "\n",
    "-   **Insertion (at the end):** $O(1)$ with tail pointer, $O(n)$\n",
    "    without.\n",
    "\n",
    "-   **Insertion (in the middle):** $O(n)$.\n",
    "\n",
    "-   **Deletion (at the beginning):** $O(1)$ - Removing the first\n",
    "    element.\n",
    "\n",
    "-   **Deletion (at the end):** $O(1)$ with tail pointer, $O(n)$ without.\n",
    "\n",
    "## Stacks and Queues\n",
    "\n",
    "-   **Push (for stacks):** $O(1)$ - Adding to the top.\n",
    "\n",
    "-   **Pop (for stacks):** $O(1)$ - Removing from the top.\n",
    "\n",
    "-   **Enqueue (for queues):** $O(1)$ - Adding to the rear.\n",
    "\n",
    "-   **Dequeue (for queues):** $O(1)$ - Removing from the front.\n",
    "\n",
    "\n",
    "# Balanced Binary Search Tree (BST)\n",
    "\n",
    "A **Binary Search Tree (BST)** is a hierarchical data structure used for\n",
    "efficient data storage and retrieval. A *balanced* BST is a specific\n",
    "type of BST where the tree is structured in a way that ensures\n",
    "relatively equal heights of the left and right subtrees, leading to\n",
    "improved search and insertion performance.\n",
    "\n",
    "## Key Characteristics\n",
    "\n",
    "-   **Binary Search Tree (BST):**\n",
    "\n",
    "    -   A BST is a tree-based data structure where each node has at most\n",
    "        two child nodes, often referred to as the \"lef\" and \"right\"\n",
    "        children.\n",
    "\n",
    "    -   The nodes in a BST are organized in such a way that for any\n",
    "        given node:\n",
    "\n",
    "        -   All nodes in its left subtree have values less than or equal\n",
    "            to the node's value.\n",
    "\n",
    "        -   All nodes in its right subtree have values greater than the\n",
    "            node's value.\n",
    "\n",
    "    -   This property ensures that data can be efficiently searched,\n",
    "        inserted, and deleted.\n",
    "\n",
    "-   **Balanced BST:**\n",
    "\n",
    "    -   A balanced BST is a specific type of BST in which the height of\n",
    "        the tree is approximately balanced, meaning that the difference\n",
    "        in height between the left and right subtrees of any node is\n",
    "        limited.\n",
    "\n",
    "    -   A balanced BST minimizes the height of the tree, which in turn\n",
    "        ensures that key operations like search, insertion, and deletion\n",
    "        have time complexities close to their best-case scenarios.\n",
    "\n",
    "## Benefits of Balanced BSTs\n",
    "\n",
    "Balanced BSTs offer several benefits:\n",
    "\n",
    "-   **Efficient Search:** In a balanced BST, the height of the tree is\n",
    "    logarithmic in the number of nodes, resulting in efficient search\n",
    "    operations with a time complexity of $O(\\log n)$, where $n$ is the\n",
    "    number of nodes.\n",
    "\n",
    "-   **Efficient Insertion and Deletion:** Balanced BSTs maintain their\n",
    "    balanced structure during insertions and deletions. As a result,\n",
    "    these operations also have time complexities of $O(\\log n)$ on\n",
    "    average.\n",
    "\n",
    "-   **Ordered Traversal:** In-order traversal of a balanced BST produces\n",
    "    elements in sorted order, making it easy to obtain elements in\n",
    "    ascending or descending order.\n",
    "\n",
    "-   **Self-Balancing Mechanisms:** Some balanced BSTs, like AVL trees\n",
    "    and Red-Black trees, have self-balancing mechanisms that\n",
    "    automatically adjust the tree's structure after insertions and\n",
    "    deletions to maintain balance.\n",
    "\n",
    "## Common Balanced BST Variants\n",
    "\n",
    "-   **AVL Tree:** An AVL tree is a self-balancing binary search tree\n",
    "    where the height difference between the left and right subtrees of\n",
    "    any node (the \"balance factor\\\") is limited to at most 1. This\n",
    "    ensures a balanced structure and guarantees $O(\\log n)$ time\n",
    "    complexity for search, insertion, and deletion.\n",
    "\n",
    "-   **Red-Black Tree:** A Red-Black tree is another self-balancing BST\n",
    "    with a set of rules that maintain balance. It ensures that the\n",
    "    longest path from the root to any leaf node is no more than twice\n",
    "    the length of the shortest path. Red-Black trees also provide\n",
    "    $O(\\log n)$ time complexity for common operations.\n",
    "\n",
    "Balanced Binary Search Trees are widely used in computer science and are\n",
    "the foundation for many efficient data storage and retrieval algorithms.\n",
    "Their ability to maintain a balanced structure ensures predictable and\n",
    "efficient performance, even as data is dynamically inserted and removed\n",
    "from the tree.\n",
    "\n",
    "<figure>\n",
    "\n",
    "<figcaption>Balanced Binary Search Tree</figcaption>\n",
    "</figure>\n",
    "\n",
    "The figure above represents a balanced Binary Search Tree (BST). In this\n",
    "example:\n",
    "\n",
    "\\- The root node contains the value 15. - Nodes are organized such that\n",
    "values less than the parent node are on the left, and values greater\n",
    "than the parent node are on the right. - The tree maintains a balanced\n",
    "structure, with approximately equal heights of the left and right\n",
    "subtrees, ensuring efficient search, insertion, and deletion operations.\n",
    "\n",
    "This balanced BST serves as an example of how data can be organized in a\n",
    "hierarchical structure for efficient retrieval and manipulation.\n",
    "\n",
    "-   **Insertion:** $O(\\log(n))$ - Inserting into a balanced binary\n",
    "    search tree.\n",
    "\n",
    "-   **Access (Search):** $O(\\log(n))$ - Searching in a balanced binary\n",
    "    search tree.\n",
    "\n",
    "-   **Deletion:** $O(\\log(n))$ - Deleting from a balanced binary search\n",
    "    tree."
   ]
  },
  {
   "cell_type": "code",
   "execution_count": null,
   "id": "3fca7cf7",
   "metadata": {},
   "outputs": [],
   "source": []
  }
 ],
 "metadata": {
  "kernelspec": {
   "display_name": "Python 3 (ipykernel)",
   "language": "python",
   "name": "python3"
  },
  "language_info": {
   "codemirror_mode": {
    "name": "ipython",
    "version": 3
   },
   "file_extension": ".py",
   "mimetype": "text/x-python",
   "name": "python",
   "nbconvert_exporter": "python",
   "pygments_lexer": "ipython3",
   "version": "3.9.6"
  }
 },
 "nbformat": 4,
 "nbformat_minor": 5
}
