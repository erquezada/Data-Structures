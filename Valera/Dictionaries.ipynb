{
 "cells": [
  {
   "cell_type": "markdown",
   "id": "5526f9cf",
   "metadata": {},
   "source": [
    "# Dictionaries (hash maps)\n",
    "Dictionaries in Python are versatile data structures that store collections of key-value pairs, where each key is unique. They are called \"hash maps\" because they typically use a hashing function to efficiently map keys to their corresponding values. This hashing process allows for rapid retrieval of values associated with specific keys, making dictionaries highly efficient for tasks like searching, indexing, and data retrieval. Python dictionaries are implemented as hash tables, making them suitable for applications requiring fast access to data with a known key, and their versatility makes them a fundamental component in many Python programs for organizing and managing data.\n",
    "\n",
    "A hashing function is a mathematical function that takes an input (or \"key\") and transforms it into a fixed-size string of characters, typically a hexadecimal number or a binary value. The output, often referred to as a hash code or hash value, is deterministic, meaning that the same input will always produce the same hash value.\n",
    "\n",
    "Hashing functions have several important characteristics:\n",
    "\n",
    "1. Deterministic: As mentioned earlier, the same input will consistently yield the same hash value.\n",
    "\n",
    "2. Fixed Output Length: The hash function produces a fixed-size output, regardless of the input's size. For example, the SHA-256 hash function always produces a 256-bit (32-byte) hash value.\n",
    "\n",
    "3. Fast Computation: Hash functions are designed to be computationally efficient, allowing for quick calculation of hash values even for large inputs.\n",
    "\n",
    "4. Avalanche Effect: A small change in the input should result in a significantly different hash value. This property ensures that similar inputs produce distinct hash codes.\n",
    "\n",
    "5. Pre-image Resistance: It should be computationally infeasible to reverse the hash function and determine the original input from its hash value.\n",
    "\n",
    "Hashing functions find extensive use in various computer science and security applications, including data integrity verification, password storage, data indexing, and cryptography. In Python, you can find built-in hash functions like `hash()` for basic hashing needs, and libraries like hashlib provide access to more advanced hash functions such as MD5, SHA-1, and SHA-256."
   ]
  },
  {
   "cell_type": "markdown",
   "id": "1a46b4a4",
   "metadata": {},
   "source": [
    "## Creating Dictionaries"
   ]
  },
  {
   "cell_type": "markdown",
   "id": "90fdfde7",
   "metadata": {},
   "source": [
    "### Using Curly Braces {}: "
   ]
  },
  {
   "cell_type": "code",
   "execution_count": null,
   "id": "afe407b1",
   "metadata": {},
   "outputs": [],
   "source": [
    "my_dictionary = {'name': 'John', 'age': 30, 'city': 'New York'}\n",
    "print(my_dictionary)"
   ]
  },
  {
   "cell_type": "markdown",
   "id": "4b30255c",
   "metadata": {},
   "source": [
    "### Using the dict() Constructor:"
   ]
  },
  {
   "cell_type": "code",
   "execution_count": null,
   "id": "ec59383f",
   "metadata": {},
   "outputs": [],
   "source": [
    "my_dictionary = dict(name='Jane', age=25, city='Los Angeles')\n",
    "print(my_dictionary)"
   ]
  },
  {
   "cell_type": "markdown",
   "id": "301587d7",
   "metadata": {},
   "source": [
    "### Using a List of Tuples:"
   ]
  },
  {
   "cell_type": "code",
   "execution_count": null,
   "id": "f7c519a0",
   "metadata": {},
   "outputs": [],
   "source": [
    "data = [('name', 'Alice'), ('age', 35), ('city', 'Chicago')]\n",
    "my_dictionary = dict(data)\n",
    "print(my_dictionary)"
   ]
  },
  {
   "cell_type": "markdown",
   "id": "b7640710",
   "metadata": {},
   "source": [
    "### Using a List of Lists:"
   ]
  },
  {
   "cell_type": "code",
   "execution_count": null,
   "id": "5e06c759",
   "metadata": {},
   "outputs": [],
   "source": [
    "data = [['name', 'Bob'], ['age', 28], ['city', 'San Francisco']]\n",
    "my_dictionary = {key: value for key, value in data}\n",
    "print(my_dictionary)"
   ]
  },
  {
   "cell_type": "markdown",
   "id": "4900bd89",
   "metadata": {},
   "source": [
    "### Using zip() Function:"
   ]
  },
  {
   "cell_type": "code",
   "execution_count": null,
   "id": "5d7e3f81",
   "metadata": {},
   "outputs": [],
   "source": [
    "keys = ['fruit', 'color', 'quantity']\n",
    "values = ['apple', 'red', 5]\n",
    "my_dictionary = dict(zip(keys, values))\n",
    "print(my_dictionary)"
   ]
  },
  {
   "cell_type": "code",
   "execution_count": null,
   "id": "82de9d33",
   "metadata": {},
   "outputs": [],
   "source": [
    "my_dictionary.values()"
   ]
  },
  {
   "cell_type": "markdown",
   "id": "0260c559",
   "metadata": {},
   "source": [
    "## Operations with Dictionaries"
   ]
  },
  {
   "cell_type": "markdown",
   "id": "489db5ca",
   "metadata": {},
   "source": [
    "### Creating a dictionary"
   ]
  },
  {
   "cell_type": "code",
   "execution_count": null,
   "id": "e7a889e8",
   "metadata": {},
   "outputs": [],
   "source": [
    "my_dictionary = {'name': 'John', 'age': 30, 'city': 'New York'}"
   ]
  },
  {
   "cell_type": "markdown",
   "id": "4be5d7d9",
   "metadata": {},
   "source": [
    "### Accessing Values"
   ]
  },
  {
   "cell_type": "code",
   "execution_count": null,
   "id": "c118fe16",
   "metadata": {},
   "outputs": [],
   "source": [
    "value = my_dictionary['name']  # Accessing a value"
   ]
  },
  {
   "cell_type": "markdown",
   "id": "8a7491f0",
   "metadata": {},
   "source": [
    "### Adding or Updating Key-Value Pairs"
   ]
  },
  {
   "cell_type": "code",
   "execution_count": null,
   "id": "3ca89de4",
   "metadata": {},
   "outputs": [],
   "source": [
    "my_dictionary['city'] = 'Los Angeles'  # Adding a new key-value pair\n",
    "my_dictionary['age'] = 31  # Updating an existing value"
   ]
  },
  {
   "cell_type": "markdown",
   "id": "b4c76c0c",
   "metadata": {},
   "source": [
    "### Removing Key-Value Pairs"
   ]
  },
  {
   "cell_type": "code",
   "execution_count": null,
   "id": "757e0a19",
   "metadata": {},
   "outputs": [],
   "source": [
    "del my_dictionary['age']  # Deleting a key-value pair"
   ]
  },
  {
   "cell_type": "markdown",
   "id": "7293b2f6",
   "metadata": {},
   "source": [
    "### Checking for Key Existence"
   ]
  },
  {
   "cell_type": "code",
   "execution_count": null,
   "id": "f89ea074",
   "metadata": {},
   "outputs": [],
   "source": [
    "if 'name' in my_dictionary:\n",
    "    print('Key \"name\" exists in the dictionary')"
   ]
  },
  {
   "cell_type": "markdown",
   "id": "d289b54c",
   "metadata": {},
   "source": [
    "### Getting Dictionary Length"
   ]
  },
  {
   "cell_type": "code",
   "execution_count": null,
   "id": "180558d0",
   "metadata": {},
   "outputs": [],
   "source": [
    "length = len(my_dictionary)  # Getting the length of the dictionary"
   ]
  },
  {
   "cell_type": "markdown",
   "id": "f6c9b6de",
   "metadata": {},
   "source": [
    "### Iterating Over Keys and Values"
   ]
  },
  {
   "cell_type": "code",
   "execution_count": null,
   "id": "9a5f5e0a",
   "metadata": {},
   "outputs": [],
   "source": [
    "for key in my_dictionary:\n",
    "    print(key)  # Iterating over keys\n",
    "\n",
    "for value in my_dictionary.values():\n",
    "    print(value)  # Iterating over values\n",
    "\n",
    "for key, value in my_dictionary.items():\n",
    "    print(key, value)  # Iterating over key-value pairs"
   ]
  },
  {
   "cell_type": "markdown",
   "id": "f5d658f0",
   "metadata": {},
   "source": [
    "### Getting Keys and Values"
   ]
  },
  {
   "cell_type": "code",
   "execution_count": null,
   "id": "d66ddf2c",
   "metadata": {},
   "outputs": [],
   "source": [
    "keys = list(my_dictionary.keys())  # Getting keys as a list\n",
    "values = list(my_dictionary.values())  # Getting values as a list"
   ]
  },
  {
   "cell_type": "markdown",
   "id": "38d53f0d",
   "metadata": {},
   "source": [
    "### Copying Dictionaries"
   ]
  },
  {
   "cell_type": "code",
   "execution_count": null,
   "id": "91a3bcda",
   "metadata": {},
   "outputs": [],
   "source": [
    "new_dictionary = my_dictionary.copy()  # Creating a shallow copy"
   ]
  },
  {
   "cell_type": "markdown",
   "id": "0f494f63",
   "metadata": {},
   "source": [
    "### Nested Dictionaries"
   ]
  },
  {
   "cell_type": "code",
   "execution_count": null,
   "id": "d6f3a6cd",
   "metadata": {},
   "outputs": [],
   "source": [
    "nested_dict = {'person': {'name': 'Alice', 'age': 25}}\n",
    "name = nested_dict['person']['name']  # Accessing a value in a nested dictionary"
   ]
  },
  {
   "cell_type": "code",
   "execution_count": null,
   "id": "8f2723aa",
   "metadata": {},
   "outputs": [],
   "source": []
  }
 ],
 "metadata": {
  "kernelspec": {
   "display_name": "Python 3 (ipykernel)",
   "language": "python",
   "name": "python3"
  },
  "language_info": {
   "codemirror_mode": {
    "name": "ipython",
    "version": 3
   },
   "file_extension": ".py",
   "mimetype": "text/x-python",
   "name": "python",
   "nbconvert_exporter": "python",
   "pygments_lexer": "ipython3",
   "version": "3.11.4"
  }
 },
 "nbformat": 4,
 "nbformat_minor": 5
}
