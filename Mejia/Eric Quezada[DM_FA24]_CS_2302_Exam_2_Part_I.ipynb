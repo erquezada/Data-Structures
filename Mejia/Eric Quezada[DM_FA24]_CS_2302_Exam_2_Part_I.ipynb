{
  "cells": [
    {
      "cell_type": "markdown",
      "metadata": {
        "id": "MKsRDH5ZUdfasdv"
      },
      "source": [
        "# [DM FA24] CS 2302 - Exam 2 Part I"
      ]
    },
    {
      "cell_type": "markdown",
      "metadata": {
        "id": "overview"
      },
      "source": [
        "## **Before you start**\n",
        "\n",
        "Make a copy of this Colab by clicking on File > Save a Copy in Drive\n"
      ]
    },
    {
      "cell_type": "code",
      "execution_count": 1,
      "metadata": {
        "id": "nen9M7Vqj5cy"
      },
      "outputs": [],
      "source": [
        "#@title  { run: \"auto\", display-mode: \"form\" }\n",
        "student_id = \"80532860\" #@param {type:\"string\"}\n",
        "first_name = \"Eric\" #@param {type:\"string\"}\n",
        "last_name = \"Quezada\" #@param {type:\"string\"}\n",
        "seat_number = \"153\" #@param {type:\"string\"}"
      ]
    },
    {
      "cell_type": "markdown",
      "metadata": {
        "id": "Yys5961wWbrH"
      },
      "source": [
        "Total numbers of points: 48 (graded out of 40)"
      ]
    },
    {
      "cell_type": "markdown",
      "metadata": {
        "id": "5xnZX0ihJQnd"
      },
      "source": [
        "## **Academic Integrity**\n",
        "\n",
        "By taking and submitting this exam you confirm that you did not receive any outside help. This includes notes, books, online resources, or any other person.\n",
        "\n",
        "You are permitted to use the provided python cheat sheet, blank scratch paper, and pencil/pen to work out problems."
      ]
    },
    {
      "cell_type": "markdown",
      "metadata": {
        "id": "u8niqSbwFFiC"
      },
      "source": [
        "## Binary Search Trees Section"
      ]
    },
    {
      "cell_type": "markdown",
      "metadata": {
        "id": "2wAHK6QXtjNt"
      },
      "source": [
        "### [8 points] Problem 1\n",
        "Complete the implementation of the _height method. This method computes the height of a binary search tree (The parameter node represents the root of the [sub]tree).  The height of an empty tree is -1. The height of a tree with only one node is 0.\n",
        "\n",
        "\n",
        "\n"
      ]
    },
    {
      "cell_type": "markdown",
      "metadata": {
        "id": "S7kU9q4CFdgT"
      },
      "source": [
        "### [8 points] Problem 2\n",
        "Complete the implementation of the _num_nodes_at_depth method. This method returns the number of nodes at depth d of a binary search tree (The parameter node represents the root of the [sub]tree).  \n",
        "\n",
        "\n"
      ]
    },
    {
      "cell_type": "markdown",
      "metadata": {
        "id": "82D6y1PTFiTB"
      },
      "source": [
        "### [8 points] Problem 3\n",
        "Complete the implementation of the _min_val method. This method returns the smallest value in a binary search tree. (The parameter node represents the root of the [sub]tree).  If the tree is empty, return float(\"inf\").\n",
        "\n"
      ]
    },
    {
      "cell_type": "markdown",
      "metadata": {
        "id": "8YWnLQi9FmFu"
      },
      "source": [
        "### [8 points] Problem 4\n",
        "Complete the implementation of the *_num_leaves* method. This method counts and returns the number of leaves in a binary search tree (The parameter node represents the root of the [sub]tree). Return 0 if the tree is empty.\n"
      ]
    },
    {
      "cell_type": "markdown",
      "metadata": {
        "id": "imozK85yyUr4"
      },
      "source": [
        "### [8 points] Problem 5\n",
        "Complete the implentation of _range_count. This method returns the number of nodes with value between\n",
        "*min_val*\n",
        "and\n",
        "*max_val*\n",
        "(exclusive). Assume the tree is a\n",
        "**binary search tree**\n",
        ". You MUST make use of the search property to receive credit.\n",
        "\n",
        "\n",
        "\tExamples:\n",
        "\n",
        "            7\n",
        "          /    \\\n",
        "        3      10      \n",
        "      /   \\   /   \\\n",
        "    -1    5   9    12\n",
        "\n",
        "    min_val = 2, max_val = 10  →  4\n",
        "    min_val = 3, max_val = 8  →  2\n",
        "    min_val = 10, max_val = 20  → 1\n",
        "    min_val = 20, max_val = 30  → 0\n",
        "\n"
      ]
    },
    {
      "cell_type": "markdown",
      "metadata": {
        "id": "R_bORlQNhOin"
      },
      "source": [
        "### [8 points] Problem 6 - BONUS (Optional)\n",
        "Complete the implentation of _max_leaf_sum. This method returns the largest sum you can obtain by adding all the values in the path from the root to any leaf in the tree.\n",
        "\n",
        "\tExamples:\n",
        "\n",
        "            7\n",
        "          /    \\\n",
        "        3      10      -> 29\n",
        "      /   \\   /   \\\n",
        "    -1    5   9    12\n",
        "\n",
        "    \n",
        "            7\n",
        "          /    \\\n",
        "        5       8      -> 18\n",
        "      /   \\   \n",
        "    -1     6   \n",
        "\n",
        "            10\n",
        "          /    \\\n",
        "        9      11      -> 27\n",
        "      /       \n",
        "     8            \n"
      ]
    },
    {
      "cell_type": "code",
      "execution_count": 2,
      "metadata": {
        "id": "yUOhDQ6etv9S"
      },
      "outputs": [],
      "source": [
        "# For all questions, use the following class definitions\n",
        "#******************************************************************************\n",
        "#DO NOT MODIFY THE CODE BELOW\n",
        "#******************************************************************************\n",
        "class Node:\n",
        "  def __init__(self, key):\n",
        "      self.left = None\n",
        "      self.right = None\n",
        "      self.item = key\n",
        "\n",
        "class BinaryTree:\n",
        "  def __init__(self):\n",
        "      self.root = None\n",
        "\n",
        "  def insert(self, key):\n",
        "      # If the tree is empty, set root\n",
        "      if self.root is None:\n",
        "          self.root = Node(key)\n",
        "      else:\n",
        "          self._insert_recursive(self.root, key)\n",
        "\n",
        "  def _insert_recursive(self, current_node, key):\n",
        "      if key < current_node.item:\n",
        "          if current_node.left is None:\n",
        "              current_node.left = Node(key)\n",
        "          else:\n",
        "              self._insert_recursive(current_node.left, key)\n",
        "      else:\n",
        "          if current_node.right is None:\n",
        "              current_node.right = Node(key)\n",
        "          else:\n",
        "              self._insert_recursive(current_node.right, key)\n",
        "\n",
        "  def inorder_traversal(self, node):\n",
        "      if node:\n",
        "          self.inorder_traversal(node.left)\n",
        "          print(node.item, end=' ')\n",
        "          self.inorder_traversal(node.right)\n",
        "#******************************************************************************\n",
        "#DO NOT MODIFY THE CODE ABOVE\n",
        "#******************************************************************************\n",
        "\n",
        "  # --------------------------------------------------------------------------------------------------------------\n",
        "  # Problem 1\n",
        "  # --------------------------------------------------------------------------------------------------------------\n",
        "  # DO NOT CHANGE THIS FUNCTION\n",
        "  def height(self):\n",
        "    return self._height(self.root)\n",
        "\n",
        "\n",
        "  def _height(self, node):\n",
        "    # Write your code here\n",
        "    if node is None:\n",
        "      return -1\n",
        "\n",
        "    left = self._height(node.left) + 1\n",
        "    right = self._height(node.right) + 1\n",
        "\n",
        "\n",
        "    return max(left, right)\n",
        "\n",
        "\n",
        "  # --------------------------------------------------------------------------------------------------------------\n",
        "  # Problem 2\n",
        "  # --------------------------------------------------------------------------------------------------------------\n",
        "  # DO NOT CHANGE THIS FUNCTION\n",
        "  def num_nodes_at_depth(self, d):\n",
        "    return self._num_nodes_at_depth(self.root, d)\n",
        "\n",
        "  def _num_nodes_at_depth(self, node, d):\n",
        "    # Write your code here\n",
        "    if node is None:\n",
        "      return 0\n",
        "    if d == 0:\n",
        "      return 1\n",
        "    nl = self._num_nodes_at_depth(node.left, d -1)\n",
        "    nr = self._num_nodes_at_depth(node.right, d -1)\n",
        "    return nl + nr\n",
        "\n",
        "\n",
        "  # --------------------------------------------------------------------------------------------------------------\n",
        "  # Problem 3\n",
        "  # --------------------------------------------------------------------------------------------------------------\n",
        "  # DO NOT CHANGE THIS FUNCTION\n",
        "  def min_val(self):\n",
        "    return self._min_val(self.root)\n",
        "\n",
        "  def _min_val(self, node):\n",
        "    # Write your code here\n",
        "    if node is None:\n",
        "      return float(\"inf\")\n",
        "    else:\n",
        "      left_nodes = self._min_val(node.left)\n",
        "      right_nodes = self._min_val(node.right)\n",
        "      return 1 + min(left_nodes, right_nodes)\n",
        "\n",
        "    return min(left_nodes, right_nodes)\n",
        "\n",
        "  # --------------------------------------------------------------------------------------------------------------\n",
        "  # Problem 4\n",
        "  # --------------------------------------------------------------------------------------------------------------\n",
        "  # DO NOT CHANGE THIS FUNCTION\n",
        "  def num_leaves(self):\n",
        "    return self._num_leaves (self.root)\n",
        "\n",
        "  def _num_leaves(self, node):\n",
        "    # Write your code here\n",
        "    if node is None:\n",
        "      return 0\n",
        "    if node.right is None and node.left is None:\n",
        "      return 1\n",
        "    return self._num_leaves(node.left) + self._num_leaves(node.right)\n",
        "\n",
        "  # --------------------------------------------------------------------------------------------------------------\n",
        "  # Problem 5\n",
        "  # --------------------------------------------------------------------------------------------------------------\n",
        "  # DO NOT CHANGE THIS FUNCTION\n",
        "  def range_count(self, min_val, max_val):\n",
        "    return self._range_count(min_val, max_val, self.root)\n",
        "\n",
        "\n",
        "  def _range_count(self, min_val, max_val, node):\n",
        "    # Write your code here\n",
        "    left = self._range_count(min_val, node.left)\n",
        "    right = self._range_count(max_val, node.right)\n",
        "\n",
        "    return range(left, right)\n",
        "\n",
        "  # --------------------------------------------------------------------------------------------------------------\n",
        "  # Problem 6 - BONUS\n",
        "  # --------------------------------------------------------------------------------------------------------------\n",
        "  # DO NOT CHANGE THIS FUNCTION\n",
        "  def max_leaf_sum(self):\n",
        "    return self._max_leaf_sum(self.root)\n",
        "\n",
        "  def _max_leaf_sum(self, node):\n",
        "    if node is None:\n",
        "      return 0\n",
        "    if node.right is None and node.left is None:\n",
        "      return 1\n",
        "    return sum(self._num_leaves(node.left) + self._num_leaves(node.right))\n",
        "\n"
      ]
    },
    {
      "cell_type": "code",
      "execution_count": 3,
      "metadata": {
        "id": "R-BtyeLCDeF2"
      },
      "outputs": [
        {
          "ename": "ModuleNotFoundError",
          "evalue": "No module named 'matplotlib'",
          "output_type": "error",
          "traceback": [
            "\u001b[0;31m---------------------------------------------------------------------------\u001b[0m",
            "\u001b[0;31mModuleNotFoundError\u001b[0m                       Traceback (most recent call last)",
            "Cell \u001b[0;32mIn[3], line 4\u001b[0m\n\u001b[1;32m      1\u001b[0m \u001b[38;5;66;03m#******************************************************************************\u001b[39;00m\n\u001b[1;32m      2\u001b[0m \u001b[38;5;66;03m#DO NOT MODIFY THE CODE BELOW\u001b[39;00m\n\u001b[1;32m      3\u001b[0m \u001b[38;5;66;03m#******************************************************************************\u001b[39;00m\n\u001b[0;32m----> 4\u001b[0m \u001b[38;5;28;01mimport\u001b[39;00m \u001b[38;5;21;01mmatplotlib\u001b[39;00m\u001b[38;5;21;01m.\u001b[39;00m\u001b[38;5;21;01mpyplot\u001b[39;00m \u001b[38;5;28;01mas\u001b[39;00m \u001b[38;5;21;01mplt\u001b[39;00m\n\u001b[1;32m      5\u001b[0m \u001b[38;5;28;01mimport\u001b[39;00m \u001b[38;5;21;01mnumpy\u001b[39;00m \u001b[38;5;28;01mas\u001b[39;00m \u001b[38;5;21;01mnp\u001b[39;00m\n\u001b[1;32m      6\u001b[0m \u001b[38;5;28;01mdef\u001b[39;00m \u001b[38;5;21m_draw_binary_tree\u001b[39m(root, x0, x1, y, y_inc,ax):\n",
            "\u001b[0;31mModuleNotFoundError\u001b[0m: No module named 'matplotlib'"
          ]
        }
      ],
      "source": [
        "#******************************************************************************\n",
        "#DO NOT MODIFY THE CODE BELOW\n",
        "#******************************************************************************\n",
        "import matplotlib.pyplot as plt\n",
        "import numpy as np\n",
        "def _draw_binary_tree(root, x0, x1, y, y_inc,ax):\n",
        "    if root is not None:\n",
        "        xm = (x0+x1)/2\n",
        "        yn = y-y_inc\n",
        "        if root.left is not None:\n",
        "            p=np.array([[xm,y], [(x0+xm)/2,yn]])\n",
        "            ax.plot(p[:,0],p[:,1],linewidth=1,color='k')\n",
        "            _draw_binary_tree(root.left,x0,xm,yn, y_inc,ax)\n",
        "        if root.right is not None:\n",
        "            p=np.array([[xm,y], [(x1+xm)/2,yn]])\n",
        "            ax.plot(p[:,0],p[:,1],linewidth=1,color='k')\n",
        "            _draw_binary_tree(root.right,xm,x1,yn, y_inc,ax)\n",
        "        ax.plot([xm,xm],[y,y],linewidth=1,color='k')\n",
        "        ax.text(xm,y, str(root.item), size=10,ha=\"center\", va=\"center\",\n",
        "            bbox=dict(facecolor='w',boxstyle=\"circle\"))\n",
        "\n",
        "\n",
        "def draw_binary_tree(root):\n",
        "    if root is None:\n",
        "      print(\"<Empty Tree>\")\n",
        "      return\n",
        "\n",
        "    fig, ax = plt.subplots()\n",
        "    _draw_binary_tree(root, 0, 200, 400, 20, ax)\n",
        "    ax.set_aspect(1.0)\n",
        "    ax.axis('off')\n",
        "    plt.show()\n",
        "#******************************************************************************\n",
        "#DO NOT MODIFY THE CODE ABOVE\n",
        "#******************************************************************************"
      ]
    },
    {
      "cell_type": "code",
      "execution_count": null,
      "metadata": {
        "colab": {
          "base_uri": "https://localhost:8080/",
          "height": 171
        },
        "id": "MB1Mld4igJlI",
        "outputId": "0265b66a-8b68-4b0f-dabf-cd64bb8fa320"
      },
      "outputs": [
        {
          "data": {
            "image/png": "[encoded data removed]",
            "text/plain": [
              "<Figure size 640x480 with 1 Axes>"
            ]
          },
          "metadata": {},
          "output_type": "display_data"
        }
      ],
      "source": [
        "# Write any useful test cases here\n",
        "bt = BinaryTree()\n",
        "bt.insert(7)\n",
        "bt.insert(3)\n",
        "bt.insert(10)\n",
        "bt.insert(-1)\n",
        "bt.insert(5)\n",
        "bt.insert(9)\n",
        "bt.insert(12)\n",
        "draw_binary_tree(bt.root)\n"
      ]
    },
    {
      "cell_type": "markdown",
      "metadata": {
        "id": "Pvc8YZjiyMO5"
      },
      "source": [
        "## How to Submit This Exam\n",
        "\n",
        "1. File > Download .ipynb\n",
        "2. Go to Blackboard, find the lab submission page, and upload the .ipynb file you just downloaded."
      ]
    },
    {
      "cell_type": "markdown",
      "metadata": {
        "id": "RI4N0u_hDe4x"
      },
      "source": [
        "## Autograder - DO NOT MODIFY"
      ]
    },
    {
      "cell_type": "code",
      "execution_count": null,
      "metadata": {
        "colab": {
          "base_uri": "https://localhost:8080/",
          "height": 1000
        },
        "id": "oWKXcifk9F9W",
        "outputId": "fd1fe842-ebdd-48b2-cb35-b1703ffc6d8e"
      },
      "outputs": [
        {
          "name": "stdout",
          "output_type": "stream",
          "text": [
            "\n",
            "-- Binary Search Trees Section --\n",
            "Problem 10 - Error - Your code output: 2  Expected output:  1  Input:\n"
          ]
        },
        {
          "data": {
            "image/png": "[encoded data removed]",
            "text/plain": [
              "<Figure size 640x480 with 1 Axes>"
            ]
          },
          "metadata": {},
          "output_type": "display_data"
        },
        {
          "name": "stdout",
          "output_type": "stream",
          "text": [
            "Problem 10 - Error - Your code output: 4  Expected output:  2  Input:\n"
          ]
        },
        {
          "data": {
            "image/png": "[encoded data removed]",
            "text/plain": [
              "<Figure size 640x480 with 1 Axes>"
            ]
          },
          "metadata": {},
          "output_type": "display_data"
        },
        {
          "name": "stdout",
          "output_type": "stream",
          "text": [
            "Problem 10 - Error - Your code output: 6  Expected output:  2  Input:\n"
          ]
        },
        {
          "data": {
            "image/png": "[encoded data removed]",
            "text/plain": [
              "<Figure size 640x480 with 1 Axes>"
            ]
          },
          "metadata": {},
          "output_type": "display_data"
        },
        {
          "name": "stdout",
          "output_type": "stream",
          "text": [
            "Problem 10 - Error - Your code output: 8  Expected output:  4  Input:\n"
          ]
        },
        {
          "data": {
            "image/png": "[encoded data removed]",
            "text/plain": [
              "<Figure size 640x480 with 1 Axes>"
            ]
          },
          "metadata": {},
          "output_type": "display_data"
        },
        {
          "name": "stdout",
          "output_type": "stream",
          "text": [
            "[Problem 1] 2.6666666666666665 / 8.0\n",
            "[Problem 2] 8.0 / 8.0\n",
            "Problem 3 - Error - Your code output: inf  Expected output:  3  Input:\n"
          ]
        },
        {
          "data": {
            "image/png": "[encoded data removed]",
            "text/plain": [
              "<Figure size 640x480 with 1 Axes>"
            ]
          },
          "metadata": {},
          "output_type": "display_data"
        },
        {
          "name": "stdout",
          "output_type": "stream",
          "text": [
            "Problem 3 - Error - Your code output: inf  Expected output:  1  Input:\n"
          ]
        },
        {
          "data": {
            "image/png": "[encoded data removed]",
            "text/plain": [
              "<Figure size 640x480 with 1 Axes>"
            ]
          },
          "metadata": {},
          "output_type": "display_data"
        },
        {
          "name": "stdout",
          "output_type": "stream",
          "text": [
            "Problem 3 - Error - Your code output: inf  Expected output:  -11  Input:\n"
          ]
        },
        {
          "data": {
            "image/png": "[encoded data removed]",
            "text/plain": [
              "<Figure size 640x480 with 1 Axes>"
            ]
          },
          "metadata": {},
          "output_type": "display_data"
        },
        {
          "name": "stdout",
          "output_type": "stream",
          "text": [
            "[Problem 3] 2.0 / 8.0\n",
            "[Problem 4] 8.0 / 8.0\n",
            "[Problem 5] Exception thrown:  BinaryTree._range_count() missing 1 required positional argument: 'node'\n",
            "[Problem 5] 0.0 / 8.0\n",
            "[Problem 6] Exception thrown:  'int' object is not iterable\n",
            "[Problem 6] 0.0 / 8.0\n",
            "[2.6666666666666665, 8.0, 2.0, 8.0, 0.0, 0.0]\n",
            "20.666666666666664\n"
          ]
        }
      ],
      "source": [
        "CODING_POINTS = 8.0\n",
        "points_by_problem = []\n",
        "\n",
        "def grade_bst():\n",
        "    print(\"\\n-- Binary Search Trees Section --\")\n",
        "\n",
        "    section_points = 0\n",
        "\n",
        "    # ---------- _height tests ----------\n",
        "    passed_tests = 0\n",
        "    num_tests = 6\n",
        "\n",
        "    try:\n",
        "\n",
        "        def check_answer(tree, ans):\n",
        "          output = tree.height()\n",
        "          if output == ans:\n",
        "            return 1\n",
        "\n",
        "          print(\"Problem 10 - Error - Your code output:\", output, \" Expected output: \", ans, \" Input:\")\n",
        "          draw_binary_tree(tree.root)\n",
        "          return 0\n",
        "        tree = BinaryTree()\n",
        "        passed_tests += check_answer(tree, -1)\n",
        "\n",
        "        tree.insert(7)\n",
        "        passed_tests += check_answer(tree, 0)\n",
        "\n",
        "        tree.insert(3)\n",
        "        tree.insert(10)\n",
        "        passed_tests += check_answer(tree, 1)\n",
        "\n",
        "        tree.insert(-1)\n",
        "        tree.insert(5)\n",
        "        passed_tests += check_answer(tree, 2)\n",
        "\n",
        "        tree.insert(9)\n",
        "        tree.insert(12)\n",
        "        passed_tests += check_answer(tree, 2)\n",
        "\n",
        "        tree.insert(16)\n",
        "        tree.insert(20)\n",
        "        passed_tests += check_answer(tree, 4)\n",
        "\n",
        "\n",
        "\n",
        "    except Exception as ex:\n",
        "        print(\"[Problem 1] Exception thrown: \", ex)\n",
        "\n",
        "    problem_points = (passed_tests / num_tests) * CODING_POINTS\n",
        "\n",
        "    print(\"[Problem 1]\", problem_points, \"/\", CODING_POINTS)\n",
        "\n",
        "    section_points += problem_points\n",
        "    points_by_problem.append(problem_points)\n",
        "\n",
        "    # ---------- _num_nodes_at_depth tests ----------\n",
        "    passed_tests = 0\n",
        "    num_tests = 4\n",
        "\n",
        "    try:\n",
        "\n",
        "        def check_answer(tree, d, ans):\n",
        "          output = tree.num_nodes_at_depth(d)\n",
        "          if output == ans:\n",
        "            return 1\n",
        "\n",
        "          print(\"Problem 2 - Error - Your code output:\", output, \" Expected output: \", ans, \" Input: d=\", d)\n",
        "          draw_binary_tree(tree.root)\n",
        "          return 0\n",
        "\n",
        "        tree = BinaryTree()\n",
        "        tree.insert(7)\n",
        "        tree.insert(3)\n",
        "        tree.insert(10)\n",
        "        tree.insert(5)\n",
        "\n",
        "        passed_tests += check_answer(tree, 2, 1)\n",
        "        passed_tests += check_answer(tree, 1, 2)\n",
        "        passed_tests += check_answer(tree, 10, 0)\n",
        "        passed_tests += check_answer(tree, 0, 1)\n",
        "\n",
        "\n",
        "    except Exception as ex:\n",
        "        print(\"[Problem 2] Exception thrown: \", ex)\n",
        "\n",
        "    problem_points = (passed_tests / num_tests) * CODING_POINTS\n",
        "\n",
        "    print(\"[Problem 2]\", problem_points, \"/\", CODING_POINTS)\n",
        "\n",
        "    section_points += problem_points\n",
        "    points_by_problem.append(problem_points)\n",
        "\n",
        "    # ---------- _min_val tests ----------\n",
        "    passed_tests = 0\n",
        "    num_tests = 4\n",
        "\n",
        "    try:\n",
        "\n",
        "        def check_answer(tree, ans):\n",
        "          output = tree.min_val()\n",
        "          if output == ans:\n",
        "            return 1\n",
        "\n",
        "          print(\"Problem 3 - Error - Your code output:\", output, \" Expected output: \", ans, \" Input:\")\n",
        "          draw_binary_tree(tree.root)\n",
        "          return 0\n",
        "\n",
        "\n",
        "\n",
        "        tree = BinaryTree()\n",
        "        passed_tests += check_answer(tree, float(\"inf\"))\n",
        "\n",
        "        tree.insert(7)\n",
        "        tree.insert(3)\n",
        "        tree.insert(10)\n",
        "        tree.insert(5)\n",
        "        passed_tests += check_answer(tree, 3)\n",
        "\n",
        "        tree.insert(1)\n",
        "        passed_tests += check_answer(tree, 1)\n",
        "\n",
        "        tree.insert(-11)\n",
        "        passed_tests += check_answer(tree, -11)\n",
        "\n",
        "\n",
        "    except Exception as ex:\n",
        "        print(\"[Problem 3] Exception thrown: \", ex)\n",
        "\n",
        "    problem_points = (passed_tests / num_tests) * CODING_POINTS\n",
        "\n",
        "    print(\"[Problem 3]\", problem_points, \"/\", CODING_POINTS)\n",
        "\n",
        "    section_points += problem_points\n",
        "    points_by_problem.append(problem_points)\n",
        "\n",
        "  # ---------- _num_leaves tests ----------\n",
        "    passed_tests = 0\n",
        "    num_tests = 7\n",
        "\n",
        "    try:\n",
        "\n",
        "\n",
        "        def check_answer(tree, ans):\n",
        "          output = tree.num_leaves()\n",
        "          if output == ans:\n",
        "            return 1\n",
        "\n",
        "          print(\"Problem 4 - Error - Your code output:\", output, \" Expected output: \", ans, \" Input: \")\n",
        "          draw_binary_tree(tree.root)\n",
        "          return 0\n",
        "\n",
        "        tree = BinaryTree()\n",
        "        passed_tests += check_answer(tree, 0)\n",
        "\n",
        "        tree.insert(7)\n",
        "        passed_tests += check_answer(tree, 1)\n",
        "\n",
        "        tree.insert(3)\n",
        "        passed_tests += check_answer(tree, 1)\n",
        "\n",
        "        tree.insert(10)\n",
        "        tree.insert(5)\n",
        "        passed_tests += check_answer(tree, 2)\n",
        "\n",
        "\n",
        "        tree.insert(11)\n",
        "        tree.insert(13)\n",
        "        passed_tests += check_answer(tree, 2)\n",
        "\n",
        "        tree.insert(6)\n",
        "        tree.insert(-1)\n",
        "        tree.insert(4)\n",
        "        passed_tests += check_answer(tree, 4)\n",
        "\n",
        "        tree.insert(8)\n",
        "        passed_tests += check_answer(tree, 5)\n",
        "\n",
        "\n",
        "    except Exception as ex:\n",
        "        print(\"[Problem 4] Exception thrown: \", ex)\n",
        "\n",
        "    problem_points = (passed_tests / num_tests) * CODING_POINTS\n",
        "\n",
        "    print(\"[Problem 4]\", problem_points, \"/\", CODING_POINTS)\n",
        "\n",
        "    section_points += problem_points\n",
        "    points_by_problem.append(problem_points)\n",
        "\n",
        "      # ---------- _range_count tests ----------\n",
        "    passed_tests = 0\n",
        "    num_tests = 4\n",
        "\n",
        "    try:\n",
        "\n",
        "        def check_answer(tree, min_val, max_val, ans):\n",
        "          output = tree.range_count(min_val, max_val)\n",
        "          if output == ans:\n",
        "            return 1\n",
        "\n",
        "          print(\"Problem 5 - Error - Your code output:\", output, \" Expected output: \", ans, \" Input: \")\n",
        "          draw_binary_tree(tree.root)\n",
        "          return 0\n",
        "\n",
        "        tree = BinaryTree()\n",
        "        tree.insert(7)\n",
        "        tree.insert(3)\n",
        "        tree.insert(10)\n",
        "        tree.insert(-1)\n",
        "        tree.insert(5)\n",
        "        tree.insert(9)\n",
        "        tree.insert(12)\n",
        "        passed_tests += check_answer(tree, 2, 10, 4)\n",
        "        passed_tests += check_answer(tree, 3, 8, 2)\n",
        "        passed_tests += check_answer(tree, 10, 20, 1)\n",
        "        passed_tests += check_answer(tree, 20, 30, 0)\n",
        "\n",
        "\n",
        "    except Exception as ex:\n",
        "        print(\"[Problem 5] Exception thrown: \", ex)\n",
        "\n",
        "    problem_points = (passed_tests / num_tests) * CODING_POINTS\n",
        "\n",
        "    print(\"[Problem 5]\", problem_points, \"/\", CODING_POINTS)\n",
        "\n",
        "    section_points += problem_points\n",
        "    points_by_problem.append(problem_points)\n",
        "\n",
        "# ---------- _max_leaf_sum tests ----------\n",
        "    passed_tests = 0\n",
        "    num_tests = 4\n",
        "\n",
        "    try:\n",
        "\n",
        "        def check_answer(tree, ans):\n",
        "          output = tree.max_leaf_sum()\n",
        "          if output == ans:\n",
        "            return 1\n",
        "\n",
        "          print(\"Problem 6 - Error - Your code output:\", output, \" Expected output: \", ans, \" Input: \")\n",
        "          draw_binary_tree(tree.root)\n",
        "          return 0\n",
        "\n",
        "        tree = BinaryTree()\n",
        "        tree.insert(7)\n",
        "        tree.insert(3)\n",
        "        tree.insert(10)\n",
        "        tree.insert(-1)\n",
        "        tree.insert(5)\n",
        "        tree.insert(9)\n",
        "        tree.insert(12)\n",
        "        passed_tests += check_answer(tree, 29)\n",
        "\n",
        "        tree = BinaryTree()\n",
        "        tree.insert(7)\n",
        "        tree.insert(5)\n",
        "        tree.insert(8)\n",
        "        tree.insert(-1)\n",
        "        tree.insert(6)\n",
        "        passed_tests += check_answer(tree, 18)\n",
        "\n",
        "        tree = BinaryTree()\n",
        "        tree.insert(10)\n",
        "        tree.insert(9)\n",
        "        tree.insert(11)\n",
        "        tree.insert(8)\n",
        "        passed_tests += check_answer(tree, 27)\n",
        "\n",
        "        tree = BinaryTree()\n",
        "        tree.insert(13)\n",
        "        tree.insert(7)\n",
        "        tree.insert(12)\n",
        "        tree.insert(5)\n",
        "        tree.insert(-2)\n",
        "        tree.insert(4)\n",
        "        passed_tests += check_answer(tree, 32)\n",
        "\n",
        "    except Exception as ex:\n",
        "        print(\"[Problem 6] Exception thrown: \", ex)\n",
        "\n",
        "    problem_points = (passed_tests / num_tests) * CODING_POINTS\n",
        "\n",
        "    print(\"[Problem 6]\", problem_points, \"/\", CODING_POINTS)\n",
        "\n",
        "    section_points += problem_points\n",
        "    points_by_problem.append(problem_points)\n",
        "\n",
        "\n",
        "grade_bst()\n",
        "print(points_by_problem)\n",
        "print(sum(points_by_problem))"
      ]
    }
  ],
  "metadata": {
    "colab": {
      "provenance": [],
      "toc_visible": true
    },
    "kernelspec": {
      "display_name": "Python 3",
      "name": "python3"
    },
    "language_info": {
      "codemirror_mode": {
        "name": "ipython",
        "version": 3
      },
      "file_extension": ".py",
      "mimetype": "text/x-python",
      "name": "python",
      "nbconvert_exporter": "python",
      "pygments_lexer": "ipython3",
      "version": "3.10.15"
    }
  },
  "nbformat": 4,
  "nbformat_minor": 0
}
