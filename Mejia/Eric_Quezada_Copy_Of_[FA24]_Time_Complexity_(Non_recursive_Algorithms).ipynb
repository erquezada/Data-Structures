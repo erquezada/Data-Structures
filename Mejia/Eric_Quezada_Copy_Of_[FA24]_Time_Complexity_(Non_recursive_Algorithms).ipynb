{
  "nbformat": 4,
  "nbformat_minor": 0,
  "metadata": {
    "colab": {
      "provenance": []
    },
    "kernelspec": {
      "name": "python3",
      "display_name": "Python 3"
    }
  },
  "cells": [
    {
      "cell_type": "markdown",
      "metadata": {
        "id": "MKsRDH5ZUdfasdv"
      },
      "source": [
        "# Time Complexity (Non-recursive Algorithms)"
      ]
    },
    {
      "cell_type": "markdown",
      "metadata": {
        "id": "overview"
      },
      "source": [
        "## **Before you start**\n",
        "\n",
        "1. Make a copy of this Colab by clicking on File > Save a Copy in Drive\n",
        "2. Input your student id, first name, and last name\n"
      ]
    },
    {
      "cell_type": "code",
      "metadata": {
        "id": "nen9M7Vqj5cy"
      },
      "source": [
        "#@title  { run: \"auto\", display-mode: \"form\" }\n",
        "student_id = \"80532860\" #@param {type:\"string\"}\n",
        "first_name = \"Eric\" #@param {type:\"string\"}\n",
        "last_name = \"Quezadda\" #@param {type:\"string\"}"
      ],
      "execution_count": null,
      "outputs": []
    },
    {
      "cell_type": "markdown",
      "metadata": {
        "id": "BP7b0ZYDnoV6"
      },
      "source": [
        "### [10 points] Problem 1\n",
        "\n",
        "What is the running time of the following function?\n",
        "\n",
        "    def f(nums_lst):\n",
        "      for i in range(len(nums_lst) + len(nums_lst)):\n",
        "          print(\"hi!\")\n",
        "\n",
        "\n"
      ]
    },
    {
      "cell_type": "code",
      "metadata": {
        "id": "sbwF-hLQtfBA"
      },
      "source": [
        "#@title  { run: \"auto\", display-mode: \"form\" }\n",
        "prob1_ans = \"O(n)\" #@param [\"O(1)\", \"O(logn)\", \"O(n)\", \"O(n logn)\", \"O(n^2)\", \"O(n^2 long)\", \"O(n^3)\", \"O(2^n)\", \"None of the above\"]\n",
        "\n"
      ],
      "execution_count": null,
      "outputs": []
    },
    {
      "cell_type": "markdown",
      "metadata": {
        "id": "RFbLRRjKqEk3"
      },
      "source": [
        "### [10 points] Problem 2\n",
        "What is the running time of the following function?\n",
        "\n",
        "    def f(nums_lst):\n",
        "      for i in range(2 ** 8):\n",
        "          print(\"hey\")\n",
        "\n",
        "\n"
      ]
    },
    {
      "cell_type": "code",
      "metadata": {
        "id": "S7Rtqgj7qPqM"
      },
      "source": [
        "#@title  { run: \"auto\", display-mode: \"form\" }\n",
        "prob2_ans = \"O(1)\" #@param [\"O(1)\", \"O(logn)\", \"O(n)\", \"O(n logn)\", \"O(n^2)\", \"O(n^2 long)\", \"O(n^3)\", \"O(2^n)\", \"None of the above\"]\n",
        "\n"
      ],
      "execution_count": null,
      "outputs": []
    },
    {
      "cell_type": "markdown",
      "metadata": {
        "id": "6AesGPkBrMz7"
      },
      "source": [
        "### [10 points] Problem 3\n",
        "What is the running time of the following function?\n",
        "\n",
        "    def f(nums_lst):\n",
        "      for i in range( len(nums_lst) // 2 ):\n",
        "          for j in range( len(nums_lst) // 4 ):\n",
        "              for k in range( len(nums_lst) + len(nums_lst) // 8):\n",
        "                  print(nums_lst[0])\n"
      ]
    },
    {
      "cell_type": "code",
      "metadata": {
        "id": "1SWoSluYrRA_"
      },
      "source": [
        "#@title  { run: \"auto\", display-mode: \"form\" }\n",
        "prob3_ans = \"O(n^3)\" #@param [\"O(1)\", \"O(logn)\", \"O(n)\", \"O(n logn)\", \"O(n^2)\", \"O(n^2 long)\", \"O(n^3)\", \"O(2^n)\", \"None of the above\"]\n",
        "\n"
      ],
      "execution_count": null,
      "outputs": []
    },
    {
      "cell_type": "markdown",
      "metadata": {
        "id": "AZcEDR6irlig"
      },
      "source": [
        "### [10 points] Problem 4\n",
        "What is the running time of the following function?\n",
        "\n",
        "    def f(nums_lst):\n",
        "      for k in range(len(nums_lst) * len(nums_lst) * len(nums_lst)):\n",
        "          i = len(nums_lst)\n",
        "\n",
        "          while i > 0:\n",
        "              print(a[0])\n",
        "              i = i // 2\n",
        "\n"
      ]
    },
    {
      "cell_type": "code",
      "metadata": {
        "id": "0On0U2V0rwdC"
      },
      "source": [
        "#@title  { run: \"auto\", display-mode: \"form\" }\n",
        "prob4_ans = \"O(n^3)\" #@param [\"O(1)\", \"O(logn)\", \"O(n)\", \"O(n logn)\", \"O(n^2)\", \"O(n^2 long)\", \"O(n^3)\", \"O(2^n)\", \"None of the above\"]\n",
        "\n"
      ],
      "execution_count": null,
      "outputs": []
    },
    {
      "cell_type": "markdown",
      "metadata": {
        "id": "4f3RqFuVCSUW"
      },
      "source": [
        "### [10 points] Problem 5\n",
        "What is the running time of the following function?\n",
        "\n",
        "    def f(nums_lst):\n",
        "      for k in range(len(nums_lst)):\n",
        "          i = len(nums_lst) * len(nums_lst) * len(nums_lst)\n",
        "\n",
        "          while i > 0:\n",
        "              print(nums_lst[0])\n",
        "              i = i // 2\n"
      ]
    },
    {
      "cell_type": "code",
      "metadata": {
        "id": "s9DrXx4mCPu7"
      },
      "source": [
        "#@title  { run: \"auto\", display-mode: \"form\" }\n",
        "prob5_ans = \"O(n logn)\" #@param [\"O(1)\", \"O(logn)\", \"O(n)\", \"O(n logn)\", \"O(n^2)\", \"O(n^2 long)\", \"O(n^3)\", \"O(2^n)\", \"None of the above\"]\n",
        "\n"
      ],
      "execution_count": null,
      "outputs": []
    },
    {
      "cell_type": "markdown",
      "metadata": {
        "id": "BSMkwJpJCpTc"
      },
      "source": [
        "### [10 points] Problem 6\n",
        "What is the running time of the following function?\n",
        "\n",
        "    def f(nums_lst):\n",
        "      for i in range(len(nums_list) - 1, -1, -2):\n",
        "          print(\"hey\")\n",
        "\n"
      ]
    },
    {
      "cell_type": "code",
      "metadata": {
        "id": "GxvXDb9pCzBq"
      },
      "source": [
        "#@title  { run: \"auto\", display-mode: \"form\" }\n",
        "prob6_ans = \"O(n)\" #@param [\"O(1)\", \"O(logn)\", \"O(n)\", \"O(n logn)\", \"O(n^2)\", \"O(n^2 long)\", \"O(n^3)\", \"O(2^n)\", \"None of the above\"]\n",
        "\n"
      ],
      "execution_count": null,
      "outputs": []
    },
    {
      "cell_type": "markdown",
      "metadata": {
        "id": "nDYi-_9jDoI3"
      },
      "source": [
        "### [10 points] Problem 7\n",
        "What is the running time of the following function?\n",
        "\n",
        "    def f(nums_lst):\n",
        "      for i in range(len(nums_list)):\n",
        "          if i < 10:\n",
        "            print(\"hi\")\n",
        "          else:\n",
        "            j = len(nums_list)\n",
        "            while j > 0:\n",
        "              print(nums_list[j-1])\n",
        "              j //= 2\n",
        "\n"
      ]
    },
    {
      "cell_type": "code",
      "metadata": {
        "id": "YrZICwjCEMyA"
      },
      "source": [
        "#@title  { run: \"auto\", display-mode: \"form\" }\n",
        "prob7_ans = \"O(n logn)\" #@param [\"O(1)\", \"O(logn)\", \"O(n)\", \"O(n logn)\", \"O(n^2)\", \"O(n^2 long)\", \"O(n^3)\", \"O(2^n)\", \"None of the above\"]\n",
        "\n"
      ],
      "execution_count": null,
      "outputs": []
    },
    {
      "cell_type": "markdown",
      "metadata": {
        "id": "GK0oira9ESSg"
      },
      "source": [
        "### [10 points] Problem 8\n",
        "What is the running time of the following function?\n",
        "\n",
        "    def f(nums_lst):\n",
        "      for i in range(len(nums_list)):\n",
        "          if i >= 10:\n",
        "            print(\"hi\")\n",
        "          else:\n",
        "            j = len(nums_list)\n",
        "            while j > 0:\n",
        "              print(nums_list[j-1])\n",
        "              j //= 2\n",
        "\n"
      ]
    },
    {
      "cell_type": "code",
      "metadata": {
        "id": "MoqmnEjEFNs-"
      },
      "source": [
        "#@title  { run: \"auto\", display-mode: \"form\" }\n",
        "prob8_ans = \"O(n)\" #@param [\"O(1)\", \"O(logn)\", \"O(n)\", \"O(n logn)\", \"O(n^2)\", \"O(n^2 long)\", \"O(n^3)\", \"O(2^n)\", \"None of the above\"]\n",
        "\n"
      ],
      "execution_count": null,
      "outputs": []
    },
    {
      "cell_type": "markdown",
      "metadata": {
        "id": "351X5HjJFQSb"
      },
      "source": [
        "### [10 points] Problem 9\n",
        "What is the running time of the following function?\n",
        "\n",
        "    def f(nums_lst):\n",
        "      for i in range(len(nums_list)):\n",
        "          if i >= len(nums_list) // 4:\n",
        "            print(\"hi\")\n",
        "          else:\n",
        "            for j in range(len(nums_list)):\n",
        "              print(nums_list[j])\n",
        "\n"
      ]
    },
    {
      "cell_type": "code",
      "metadata": {
        "id": "V5XHPdlrFghX"
      },
      "source": [
        "#@title  { run: \"auto\", display-mode: \"form\" }\n",
        "prob9_ans = \"O(n^2)\" #@param [\"O(1)\", \"O(logn)\", \"O(n)\", \"O(n logn)\", \"O(n^2)\", \"O(n^2 long)\", \"O(n^3)\", \"O(2^n)\", \"None of the above\"]\n",
        "\n"
      ],
      "execution_count": null,
      "outputs": []
    },
    {
      "cell_type": "markdown",
      "metadata": {
        "id": "7OoO-_qcFh8e"
      },
      "source": [
        "### [10 points] Problem 10\n",
        "What is the running time of the following function?\n",
        "\n",
        "    def f(nums_lst):\n",
        "      for i in range(len(nums_list)):\n",
        "          if i < len(nums_list) // 4:\n",
        "            print(\"hi\")\n",
        "          else:\n",
        "            for j in range(len(nums_list)):\n",
        "              print(nums_list[j])\n"
      ]
    },
    {
      "cell_type": "code",
      "metadata": {
        "id": "s4-O08mTFspK"
      },
      "source": [
        "#@title  { run: \"auto\", display-mode: \"form\" }\n",
        "prob10_ans = \"O(n^2)\" #@param [\"O(1)\", \"O(logn)\", \"O(n)\", \"O(n logn)\", \"O(n^2)\", \"O(n^2 long)\", \"O(n^3)\", \"O(2^n)\", \"None of the above\"]\n",
        "\n"
      ],
      "execution_count": null,
      "outputs": []
    },
    {
      "cell_type": "markdown",
      "metadata": {
        "id": "Pvc8YZjiyMO5"
      },
      "source": [
        "## How to Submit\n",
        "\n",
        "1. File > Download .ipynb\n",
        "2. Go to Blackboard, find the submission page, and upload the .ipynb file you just downloaded."
      ]
    }
  ]
}